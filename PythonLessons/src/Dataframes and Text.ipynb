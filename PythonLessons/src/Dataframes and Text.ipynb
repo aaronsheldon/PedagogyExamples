{
 "cells": [
  {
   "cell_type": "markdown",
   "metadata": {},
   "source": [
    "# Dataframes and Text\n",
    "\n",
    "We have previously seen that we can search and extract text using regular expressions on\n",
    "single variables. We can search entire columns for matching text and return new columns\n",
    "of results. The vectorized search functions use Python's specialized\n",
    "[raw-strings](https://docs.python.org/3/reference/lexical_analysis.html#escape-sequences) to\n",
    "avoid having to escape the backslashes. For more details you can read the official Python\n",
    "[RegEx How-To](https://docs.python.org/3/howto/regex.html). As always\n",
    "[Regex101](https://regex101.com/) is a fantastic resource for testing debugging regular\n",
    "expression against test strings."
   ]
  },
  {
   "cell_type": "code",
   "execution_count": null,
   "metadata": {},
   "outputs": [],
   "source": [
    "import pandas as pd\n",
    "import re"
   ]
  },
  {
   "cell_type": "markdown",
   "metadata": {},
   "source": [
    "## Credit Card Example\n",
    "\n",
    "We will load the `Credit Card Info.xlsx` file from our data directory. Our goal is to\n",
    "extract the credit card information for emailed free text responses. In this scenario we\n",
    "are given a small sample file that represents the variability in the larger dataset. We\n",
    "will develop our extraction methods using the sample file."
   ]
  },
  {
   "cell_type": "code",
   "execution_count": 22,
   "metadata": {},
   "outputs": [
    {
     "name": "stdout",
     "output_type": "stream",
     "text": [
      "id                    Int64\n",
      "Event Log    string[python]\n",
      "dtype: object\n"
     ]
    }
   ],
   "source": [
    "samples = pd.read_excel(\n",
    "    \"../data/Credit Card Info.xlsx\",\n",
    "    dtype = {\n",
    "        \"id\": pd.Int64Dtype(),\n",
    "        \"Event Log\": pd.StringDtype()\n",
    "    }\n",
    ")\n",
    "print(samples.dtypes)"
   ]
  },
  {
   "cell_type": "markdown",
   "metadata": {},
   "source": [
    "Each Pandas column, called a series, supports string processing using Regular Expression,\n",
    "including:\n",
    "\n",
    "* [`Contains`](https://pandas.pydata.org/pandas-docs/stable/reference/api/pandas.Series.str.contains.html) assert is there is a match.\n",
    "* [`Extract`](https://pandas.pydata.org/pandas-docs/stable/reference/api/pandas.Series.str.extract.html) all the capture groups of the first match.\n",
    "* [`Extract All`](https://pandas.pydata.org/pandas-docs/stable/reference/api/pandas.Series.str.extractall.html) all the capture groups of all matches.\n",
    "* [`Find`](https://pandas.pydata.org/pandas-docs/stable/reference/api/pandas.Series.str.find.html) the index of the first match.\n",
    "* [`Find All`](https://pandas.pydata.org/pandas-docs/stable/reference/api/pandas.Series.str.findall.html) all the indexes of all the matches.\n",
    "* [`Full Match`](https://pandas.pydata.org/pandas-docs/stable/reference/api/pandas.Series.str.fullmatch.html) assert the entire string matches.\n",
    "* [`Replace`](https://pandas.pydata.org/pandas-docs/stable/reference/api/pandas.Series.str.replace.html) replace each occurrence with a value."
   ]
  },
  {
   "cell_type": "code",
   "execution_count": null,
   "metadata": {},
   "outputs": [],
   "source": [
    "samples[\"Event Log\"].str.contains(\n",
    "    r\"(\\d{4}-){2,3}\\d{4}\",\n",
    "    regex = True\n",
    ")"
   ]
  },
  {
   "cell_type": "markdown",
   "metadata": {},
   "source": [
    "We can use this to extract the first matching credit card number. Note the non-capturing\n",
    "`(?: ...)` group used to match the individual sequences of numbers in the repetitions. By\n",
    "default all brackets form capturing groups, that is the search will return an list of \n",
    "strings, where each string matched inside of one of the brackets. We can tell the search\n",
    "engine that the brackets are used for organizing only by making it non-capturing.\n",
    "\n",
    "The distinction is between what gets matched, the regular expression, and what gets returned\n",
    "the grouping brackets `(...)` within the regular expression. By default brackets mean please\n",
    "return this part of the match.\n",
    "\n",
    "### Business Analysis Question\n",
    "\n",
    "The first match is a complete number. Should we return the other three incomplete numbers?\n",
    "Try out different combinations of the values in the repetition indicator `{start,stop}`. By\n",
    "default regular expression engines are *greedy* they will prefer the longest match possible\n",
    "over the first match possible."
   ]
  },
  {
   "cell_type": "code",
   "execution_count": null,
   "metadata": {},
   "outputs": [],
   "source": [
    "ISCREDIT = r\"((?:(?:\\d{4}[-]){2,3}|(?:\\d{4}[ ]){2,3}|(?:\\d{4}){2,3})\\d{4})\"\n",
    "samples[\"Event Log\"].str.extract(ISCREDIT).replace(\n",
    "    r\"\\D\",\n",
    "    \"\",\n",
    "    regex = True\n",
    ")"
   ]
  },
  {
   "cell_type": "markdown",
   "metadata": {},
   "source": [
    "As an exercise in *or* groups `(...|...|...)` a more general form matches numbers that are\n",
    "only delimited by dashes, or only delimited by spaces, or only have no delimiters:\n",
    "```\n",
    "((?:(?:\\d{4}[-]){2,3}|(?:\\d{4}[ ]){2,3}|(?:\\d{4}){2,3})\\d{4})\n",
    "```"
   ]
  },
  {
   "cell_type": "markdown",
   "metadata": {},
   "source": [
    "As an exercise in negation classes, such as do *not* match whitespace we will extract the\n",
    "emails.\n",
    "```\n",
    "[^\\s@]+@[^\\s@]+\\.[^\\s@\\.]+\n",
    "```"
   ]
  },
  {
   "cell_type": "code",
   "execution_count": null,
   "metadata": {},
   "outputs": [],
   "source": [
    "ISEMAIL = r\"([^@\\s]+@[^@\\s]+\\.[^@\\s\\.]+)\"\n",
    "samples[\"Event Log\"].str.extract(ISEMAIL)"
   ]
  },
  {
   "cell_type": "code",
   "execution_count": null,
   "metadata": {},
   "outputs": [],
   "source": [
    "ISEXPIRY = r\"(\\d{2}[/\\\\]\\d{2})\"\n",
    "samples[\"Event Log\"].str.extract(ISEXPIRY).replace(\n",
    "    r\"\\D\",\n",
    "    \"\",\n",
    "    regex = True\n",
    ")"
   ]
  },
  {
   "cell_type": "markdown",
   "metadata": {},
   "source": [
    "### Data Extraction\n",
    "\n",
    "We can combine all the extraction steps into one cell that creates columns for each of\n",
    "the extracted data."
   ]
  },
  {
   "cell_type": "code",
   "execution_count": 25,
   "metadata": {},
   "outputs": [],
   "source": [
    "# Store the data in fields\n",
    "ISEMAIL = r\"([^@\\s]+@[^@\\s]+\\.[^@\\s\\.]+)\"\n",
    "ISEXPIRY = r\"(?<!\\d[/\\\\ -])(\\d\\d[/\\\\ -]?\\d\\d)(?![/\\\\ -]?\\d)\"\n",
    "ISCREDIT = r\"((?:(?:\\d{4}[-]){2,3}|(?:\\d{4}[ ]){2,3}|(?:\\d{4}){2,3})\\d{4})\"\n",
    "ISSOCIAL = r\"(?<!\\d)((?:\\d{3}-\\d\\d-\\d{4}|(?:\\d{3} \\d\\d \\d{4})|(?:\\d{9})))(?![- ]?\\d)\"\n",
    "samples[\"Email\"] = samples[\"Event Log\"].str.extract(ISEMAIL)\n",
    "samples[\"Credit Card\"] = samples[\"Event Log\"].str.extract(ISCREDIT).replace(\n",
    "    r\"\\D\",\n",
    "    \"\",\n",
    "    regex = True\n",
    ")\n",
    "samples[\"Expiry\"] = samples[\"Event Log\"].str.extract(ISEXPIRY).replace(\n",
    "    r\"\\D\",\n",
    "    \"\",\n",
    "    regex = True\n",
    ")\n",
    "samples[\"Social Security\"] = samples[\"Event Log\"].str.extract(ISSOCIAL).replace(\n",
    "    r\"\\D\",\n",
    "    \"\",\n",
    "    regex = True\n",
    ")"
   ]
  },
  {
   "cell_type": "markdown",
   "metadata": {},
   "source": [
    "### Additional References\n",
    "\n",
    "* [Negative and positive look-a-heads and look-behinds](https://www.regular-expressions.info/lookaround.html).\n",
    "* Regular Expression Puzzle Games, like [RegEx Golf](https://alf.nu/RegexGolf)."
   ]
  },
  {
   "cell_type": "markdown",
   "metadata": {},
   "source": [
    "### Look Ahead and Behind\n",
    "\n",
    "The problem a look-around addresses is that matches require a character to be present for\n",
    "comparison. The technical name of the process is *\"Zero Length Assertion\"*. It requires\n",
    "the elements of the look-around be true without matching the character position. Zero\n",
    "length assertions do **not** contribute to the positions matched. The distinction becomes\n",
    "important when using regular expressions for string replacement. While you can use\n",
    "non-capturing groups to imitate a look-around assertion for text extraction, they will cause\n",
    "the non-captured parts to be replaced when used in string substitution.\n",
    "\n",
    "Zero length assertions are useful for improving the sensitivity and specificity of matches\n",
    "by incorporating information about the wider context in which the match was made.\n",
    "\n",
    "Lets start by working the example *\"q\"* example from the tutorial."
   ]
  },
  {
   "cell_type": "code",
   "execution_count": 26,
   "metadata": {},
   "outputs": [
    {
     "name": "stdout",
     "output_type": "stream",
     "text": [
      "How many Q are Q not followed by u? The queen of IraQis quick at quizzes. How to find this Q\n",
      "How many qs are qs not followed by u? The Qeen of Iraq is Qick at Qizzes. How to find this q\n",
      "How many Qs are Qs not followed by u? The queen of IraQ is quick at quizzes. How to find this Q\n",
      "How many qs are qs not followed by u? The Queen of Iraq is Quick at Quizzes. How to find this q\n",
      "['any qs', 'are qs', ' Iraq ', 'his q']\n",
      "['any q', 'are q', ' Iraq', 'his q']\n",
      "['The qu', ' is qu', ' at qu']\n",
      "['The q', ' is q', ' at q']\n"
     ]
    }
   ],
   "source": [
    "phrase = \"How many qs are qs not followed by u? The queen of Iraq is quick at quizzes. How to find this q\"\n",
    "noncapneg = re.compile(r\"q(?:[^u]|$)\")\n",
    "print(noncapneg.sub(\"Q\", phrase))\n",
    "noncappos = re.compile(r\"q(?:u)\")\n",
    "print(noncappos.sub(\"Q\", phrase))\n",
    "zeroneg = re.compile(r\"q(?!u)\")\n",
    "print(zeroneg.sub(\"Q\", phrase))\n",
    "zeropos = re.compile(r\"q(?=u)\")\n",
    "print(zeropos.sub(\"Q\", phrase))\n",
    "\n",
    "# Extract by both means\n",
    "extnoncapneg = re.compile(r\"....q(?:[^u]|$)\")\n",
    "print(extnoncapneg.findall(phrase))\n",
    "extzeroneg = re.compile(r\"....q(?!u)\")\n",
    "print(extzeroneg.findall(phrase))\n",
    "extnoncappos = re.compile(r\"....q(?:u)\")\n",
    "print(extnoncappos.findall(phrase))\n",
    "extzeropos = re.compile(r\"....q(?=u)\")\n",
    "print(extzeropos.findall(phrase))"
   ]
  },
  {
   "cell_type": "markdown",
   "metadata": {},
   "source": [
    "Find all the expiry dates, four digit numbers with a variety of delimiters, that are **not**\n",
    "part of any other number. The general problem is find exactly $n$ numbers that are **not** a\n",
    "substring of $m>n$ numbers.\n",
    "\n",
    "The remaining challenges  are:\n",
    "* Extract the telephone number when available. Hint: use the social security expression as a\n",
    "template and play with the number of digits.\n",
    "* Extract the two \"words\" following the key `Name:`"
   ]
  }
 ],
 "metadata": {
  "kernelspec": {
   "display_name": "base",
   "language": "python",
   "name": "python3"
  },
  "language_info": {
   "codemirror_mode": {
    "name": "ipython",
    "version": 3
   },
   "file_extension": ".py",
   "mimetype": "text/x-python",
   "name": "python",
   "nbconvert_exporter": "python",
   "pygments_lexer": "ipython3",
   "version": "3.12.5"
  }
 },
 "nbformat": 4,
 "nbformat_minor": 2
}
