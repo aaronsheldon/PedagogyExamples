{
 "cells": [
  {
   "cell_type": "markdown",
   "metadata": {},
   "source": [
    "# Monty Hall Problem\n",
    "\n",
    "This notebook provides an interactive simulation of the Monty Hall Problem from probability\n",
    "and game theory. The Monty Hall Problem is a game of chance with conditional information:\n",
    "\n",
    "1. The game begins with a prize randomly hidden behind one of three doors.\n",
    "2. The reader chooses an initial door out of the three.\n",
    "3. A door that neither the reader has chosen, nor containing a prize is then opened.\n",
    "4. The reader can then optionally choose to switch their choice of doors to the remaining\n",
    "unopened door.\n",
    "5. Finally the prize door is revealed. If it is the final choice of the reader then the\n",
    "reader wins, otherwise the reader loses.\n",
    "\n",
    "The counterintuitive result of this game is that the optimum strategy is for the reader to\n",
    "always switch their choice of doors, as that has a two thirds chance of winning. In this\n",
    "notebook the reader acts as the contest and can play multiple rounds of the game. When the\n",
    "reader stops playing the wins and loses are cross-tabulated by the strategy the reader\n",
    "chose."
   ]
  },
  {
   "cell_type": "code",
   "execution_count": 1,
   "metadata": {},
   "outputs": [],
   "source": [
    "import random as rd"
   ]
  },
  {
   "cell_type": "markdown",
   "metadata": {},
   "source": [
    "## Interactive Simulation\n",
    "\n",
    "We will take this opportunity to demonstrate Functional Programming in Python. The\n",
    "interactive simulation will demonstrate the following Python concepts:\n",
    "\n",
    "* Recursive functions\n",
    "* Local functions\n",
    "* `nonlocal` keyword\n",
    "* Sets and their operations\n",
    "* Incrementally updating variables\n",
    "* Random choices\n",
    "* Flattened conditional branching\n",
    "* Returning values from a function"
   ]
  },
  {
   "cell_type": "markdown",
   "metadata": {},
   "source": [
    "### Recursive Functions\n",
    "\n",
    "Before we begin with the simulation, what will happen if a function calls itself? This is\n",
    "called recursive logic or reasoning. This function will count down."
   ]
  },
  {
   "cell_type": "code",
   "execution_count": 2,
   "metadata": {},
   "outputs": [],
   "source": [
    "def countdown(n):\n",
    "    \"\"\"\n",
    "    Counts down from the the argument `n` passed in, printing a message.\n",
    "    \"\"\"\n",
    "    if n < 1:\n",
    "        print(\"All done.\")\n",
    "    else:\n",
    "        print(f\"{n} to go.\")\n",
    "        countdown(n - 1)"
   ]
  },
  {
   "cell_type": "code",
   "execution_count": 3,
   "metadata": {},
   "outputs": [
    {
     "name": "stdout",
     "output_type": "stream",
     "text": [
      "6 to go.\n",
      "5 to go.\n",
      "4 to go.\n",
      "3 to go.\n",
      "2 to go.\n",
      "1 to go.\n",
      "All done.\n"
     ]
    }
   ],
   "source": [
    "countdown(6)"
   ]
  },
  {
   "cell_type": "markdown",
   "metadata": {},
   "source": [
    "### Factory Functions\n",
    "\n",
    "How do we make a recursive function count up. We have a couple of choices. First we could\n",
    "use two arguments, one for the current count and one for the final goal. Or we could\n",
    "use a protected global in a factory function.\n",
    "\n",
    "Factory functions are just functions that return other functions. They define a new global\n",
    "scope for the returned function, so that the same call to a function can produce different\n",
    "results."
   ]
  },
  {
   "cell_type": "code",
   "execution_count": 4,
   "metadata": {},
   "outputs": [],
   "source": [
    "def factory():\n",
    "    \"\"\"\n",
    "    Will return a function that recursively counts up. It is the job of the factory function\n",
    "    to keep track of the engines progress in reaching a goal\n",
    "    \"\"\"\n",
    "    progress = 0\n",
    "    \n",
    "    def engine(goal):\n",
    "        \"\"\"\n",
    "        Starting from 1 count up to the passed in argument `goal`\n",
    "        \"\"\"\n",
    "\n",
    "        # This gives us access to the variable progress defined in the outer scope.\n",
    "        nonlocal progress\n",
    "        progress +=1\n",
    "\n",
    "        # Test if we have reach the goal, otherwise keep going\n",
    "        if progress < goal:\n",
    "            print(f\"{progress} so far.\")\n",
    "            engine(goal)\n",
    "        else:\n",
    "            print(\"All done.\")\n",
    "\n",
    "    # Send out the engine that was built, to be used. No arguments provided.\n",
    "    return engine"
   ]
  },
  {
   "cell_type": "code",
   "execution_count": 5,
   "metadata": {},
   "outputs": [
    {
     "name": "stdout",
     "output_type": "stream",
     "text": [
      "<class 'function'>\n",
      "1 so far.\n",
      "2 so far.\n",
      "3 so far.\n",
      "4 so far.\n",
      "5 so far.\n",
      "All done.\n"
     ]
    }
   ],
   "source": [
    "# First we create an instance of the count down\n",
    "countup = factory()\n",
    "print(type(countup))\n",
    "\n",
    "# Then we use the function\n",
    "countup(6)"
   ]
  },
  {
   "cell_type": "markdown",
   "metadata": {},
   "source": [
    "Notice how calling `countup` again remembers the progress so far, even across the calls.\n",
    "\n",
    "Calling with a larger value than the last goal will count upwards."
   ]
  },
  {
   "cell_type": "code",
   "execution_count": 6,
   "metadata": {},
   "outputs": [
    {
     "name": "stdout",
     "output_type": "stream",
     "text": [
      "7 so far.\n",
      "8 so far.\n",
      "9 so far.\n",
      "10 so far.\n",
      "11 so far.\n",
      "All done.\n"
     ]
    }
   ],
   "source": [
    "countup(12)"
   ]
  },
  {
   "cell_type": "markdown",
   "metadata": {},
   "source": [
    "Calling with a smaller value than the progress will not count upwards because the progress\n",
    "has already exceed the goal."
   ]
  },
  {
   "cell_type": "code",
   "execution_count": 7,
   "metadata": {},
   "outputs": [
    {
     "name": "stdout",
     "output_type": "stream",
     "text": [
      "All done.\n"
     ]
    }
   ],
   "source": [
    "countup(3)"
   ]
  },
  {
   "cell_type": "markdown",
   "metadata": {},
   "source": [
    "We can create a new version of `countup` to reset the progress."
   ]
  },
  {
   "cell_type": "code",
   "execution_count": 8,
   "metadata": {},
   "outputs": [
    {
     "name": "stdout",
     "output_type": "stream",
     "text": [
      "1 so far.\n",
      "2 so far.\n",
      "3 so far.\n",
      "4 so far.\n",
      "5 so far.\n",
      "6 so far.\n",
      "All done.\n"
     ]
    }
   ],
   "source": [
    "countup = factory()\n",
    "countup(7)"
   ]
  },
  {
   "cell_type": "markdown",
   "metadata": {},
   "source": [
    "### Sets\n",
    "\n",
    "A Python set ensures the elements in a set are unique. Sets are created with curly braces \n",
    "`{}`. Sets can be unpacked with the `*` operator, and turned into lists with `[]`. If you\n",
    "create a set it will automatically remove duplicates. "
   ]
  },
  {
   "cell_type": "code",
   "execution_count": 9,
   "metadata": {},
   "outputs": [
    {
     "name": "stdout",
     "output_type": "stream",
     "text": [
      "{1, 2, 3}\n",
      "1 2 3\n",
      "1 2 3\n",
      "[1, 2, 3]\n",
      "{2}\n"
     ]
    }
   ],
   "source": [
    "# Similar notation to dictionaries but with single elements instead of key-value pairs.\n",
    "a = { 1, 2, 3}\n",
    "print(a)\n",
    "\n",
    "# Unpack to elements\n",
    "print(*a)\n",
    "print(1, 2, 3)\n",
    "\n",
    "# Unpack to list\n",
    "print([ *a ])\n",
    "\n",
    "# De-duplication\n",
    "print({ 2, 2 })"
   ]
  },
  {
   "cell_type": "markdown",
   "metadata": {},
   "source": [
    "Using these techniques we can build a recursive version of the Monty Hall simulator."
   ]
  },
  {
   "cell_type": "code",
   "execution_count": 19,
   "metadata": {},
   "outputs": [],
   "source": [
    "def game():\n",
    "    \"\"\"\n",
    "    The classic Monty Hall Game using text inputs. Returns a cross-tabulation of wins and\n",
    "    loses by choice of swap versus stay:\n",
    "    * `swapwins` - Number of wins after switching doors.\n",
    "    * `swaploses` - Number of loses after switching doors.\n",
    "    * `staywins` - Number of wins after keeping the choice.\n",
    "    * `staylose` - Number of loses after keeping the choice.\n",
    "    \"\"\"\n",
    "\n",
    "    # The doors as a Python set\n",
    "    DOORS = { '1', '2', '3' }\n",
    "\n",
    "    # Cross-tabulations of results\n",
    "    swapwins = 0\n",
    "    swaploses = 0\n",
    "    staywins = 0\n",
    "    stayloses = 0\n",
    "\n",
    "    def engine():\n",
    "        \"\"\"\n",
    "        Locally defined recursive game engine that runs until exit is chosen.\n",
    "        \"\"\"\n",
    "\n",
    "        # Get access to the cross-tabulations to track between individual games\n",
    "        nonlocal DOORS\n",
    "        nonlocal swapwins\n",
    "        nonlocal swaploses\n",
    "        nonlocal staywins\n",
    "        nonlocal stayloses\n",
    "\n",
    "        # Put a prize randomly behind a door\n",
    "        prize = rd.choice([ *DOORS ])\n",
    "\n",
    "        # Prompt the user to choose a door\n",
    "        first = input(\"Type '1', '2', or '3' to choose a door.\")\n",
    "        if first not in DOORS:\n",
    "            return False\n",
    "        \n",
    "        # Select a door to reveal. Randomly select from the set of doors that neither have\n",
    "        # the prize nor selected by the user. We can do this by making a set of the prize\n",
    "        # and the users first choice and removing those from all the doors\n",
    "        reveal = rd.choice([ *DOORS.difference({ prize, first }) ])\n",
    "\n",
    "        # Prompt the user to stay or swap with the additional information.\n",
    "        stay = input(\n",
    "            f\"The prize is not behind door {reveal}.\" +\n",
    "            f\"Your first choice was door {first}.\" +\n",
    "            \"Type 'y' to stay with this choice.\"\n",
    "        )\n",
    "\n",
    "        # Update the cross tabulation based on the choices\n",
    "        if stay == \"y\" and prize == first:\n",
    "            staywins += 1\n",
    "            print(\"Win!\")\n",
    "        elif stay == \"y\":\n",
    "            print(\"Lost.\")\n",
    "            stayloses += 1\n",
    "        elif prize == first:\n",
    "            swaploses += 1\n",
    "            print(\"Lost.\")\n",
    "        else:\n",
    "            swapwins += 1\n",
    "            print(\"Win!\")\n",
    "\n",
    "        # Prompt to continue\n",
    "        again = input(\"Type 'y' to play again.\")\n",
    "        return again == \"y\"\n",
    "\n",
    "    # Initialize the game\n",
    "    while engine():\n",
    "        pass\n",
    "\n",
    "    # Send the results\n",
    "    return swapwins, swaploses, staywins, stayloses"
   ]
  },
  {
   "cell_type": "code",
   "execution_count": 20,
   "metadata": {},
   "outputs": [
    {
     "name": "stdout",
     "output_type": "stream",
     "text": [
      "Win!\n",
      "Win!\n",
      "Win!\n",
      "Lost.\n",
      "Lost.\n",
      "Win!\n",
      "Lost.\n",
      "Lost.\n",
      "Lost.\n",
      "Win!\n",
      "Win!\n",
      "Lost.\n",
      "Win!\n"
     ]
    },
    {
     "data": {
      "text/plain": [
       "(7, 6, 0, 0)"
      ]
     },
     "execution_count": 20,
     "metadata": {},
     "output_type": "execute_result"
    }
   ],
   "source": [
    "game()"
   ]
  },
  {
   "cell_type": "markdown",
   "metadata": {},
   "source": [
    "## Factorial Recursive Function\n",
    "\n",
    "The textbook demonstration of a recursive function is the factorial:\n",
    "$$\n",
    "n! = n \\times n - 1 \\times \\cdots \\times 1\n",
    "$$\n",
    "We can redefine this as:\n",
    "$$\n",
    "n! = n \\times (n - 1)!\n",
    "$$\n",
    "With the condition that 0! = 1\n"
   ]
  },
  {
   "cell_type": "code",
   "execution_count": 7,
   "metadata": {},
   "outputs": [],
   "source": [
    "def factorial(n):\n",
    "    if n < 2:\n",
    "        return 1\n",
    "    return n * factorial(n-1)"
   ]
  },
  {
   "cell_type": "code",
   "execution_count": null,
   "metadata": {},
   "outputs": [],
   "source": [
    "factorial(10)"
   ]
  }
 ],
 "metadata": {
  "kernelspec": {
   "display_name": "base",
   "language": "python",
   "name": "python3"
  },
  "language_info": {
   "codemirror_mode": {
    "name": "ipython",
    "version": 3
   },
   "file_extension": ".py",
   "mimetype": "text/x-python",
   "name": "python",
   "nbconvert_exporter": "python",
   "pygments_lexer": "ipython3",
   "version": "3.12.5"
  }
 },
 "nbformat": 4,
 "nbformat_minor": 2
}
