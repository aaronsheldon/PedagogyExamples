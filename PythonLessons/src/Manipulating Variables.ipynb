{
 "cells": [
  {
   "cell_type": "markdown",
   "metadata": {},
   "source": [
    "# Manipulating Variables\n",
    "\n",
    "Recall last week I provided a referenced Python's\n",
    "[expressions](https://docs.python.org/3/reference/expressions.htm). A sub-heading in the\n",
    "documentation deals with operator precedence, the\n",
    "[order of operations](https://docs.python.org/3/reference/expressions.html#operator-precedence).\n",
    "\n",
    "To inspire you to try this out yourself here are some examples:"
   ]
  },
  {
   "cell_type": "code",
   "execution_count": 5,
   "metadata": {},
   "outputs": [
    {
     "name": "stdout",
     "output_type": "stream",
     "text": [
      "2**3 - 15 = -7\n",
      "2**(3 - 15) = 0.000244140625\n",
      "0.000244140625\n",
      "3.4 * 1.6 + 18 = 23.44\n",
      "3.4 * (1.6 + 18) = 66.64\n"
     ]
    }
   ],
   "source": [
    "a = 2**3 - 15\n",
    "print(f\"2**3 - 15 = {a}\")\n",
    "a = 2**(3 - 15)\n",
    "print(f\"2**(3 - 15) = {a}\")\n",
    "print(1/4096)\n",
    "a = 3.4 * 1.6 + 18\n",
    "print(f\"3.4 * 1.6 + 18 = {a}\")\n",
    "a = 3.4 * (1.6 + 18)\n",
    "print(f\"3.4 * (1.6 + 18) = {a}\")"
   ]
  },
  {
   "cell_type": "markdown",
   "metadata": {},
   "source": [
    "# Logical operators\n",
    "\n",
    "Python uses full words to represent the standard logical operators"
   ]
  },
  {
   "cell_type": "code",
   "execution_count": 10,
   "metadata": {},
   "outputs": [
    {
     "name": "stdout",
     "output_type": "stream",
     "text": [
      "True or False = True\n",
      "False or False = False\n",
      "True or True = True\n",
      "\n",
      "True and False = False\n",
      "False and False = False\n",
      "True and True = True\n",
      "\n",
      "not True = False\n",
      "not False = True\n"
     ]
    }
   ],
   "source": [
    "a = True or False\n",
    "print(f\"True or False = {a}\")\n",
    "a = False or False\n",
    "print(f\"False or False = {a}\")\n",
    "a = True or True\n",
    "print(f\"True or True = {a}\")\n",
    "print()\n",
    "a = True and False\n",
    "print(f\"True and False = {a}\")\n",
    "a = False and False\n",
    "print(f\"False and False = {a}\")\n",
    "a = True and True\n",
    "print(f\"True and True = {a}\")\n",
    "print()\n",
    "a = not True\n",
    "print(f\"not True = {a}\")\n",
    "a = not False\n",
    "print(f\"not False = {a}\")"
   ]
  },
  {
   "cell_type": "markdown",
   "metadata": {},
   "source": [
    "One example of combining numerical comparisons with logical operators is checking the\n",
    "range of values of the returned HTTP code of a request.\n",
    "\n",
    "We have touched on comparisons now we will make them explicit. Comparisons takes two\n",
    "variables, not always numerical, and produces a boolean (True or False) indicating whether\n",
    "the comparison is valid."
   ]
  },
  {
   "cell_type": "code",
   "execution_count": 24,
   "metadata": {},
   "outputs": [
    {
     "name": "stdout",
     "output_type": "stream",
     "text": [
      "[2, 3, 1] != [2, 3] = True\n",
      "[2, 3, 1] > [2, 3] = True\n",
      "[2, 3, 1] < [2, 3] = False\n",
      "[2, 3, 1] >= [2, 3] = True\n",
      "[2, 3, 1] <= [2, 3] = False\n",
      "[2, 3, 1] is [2, 3] = False\n",
      "[2, 3, 1] is not [2, 3] = True\n",
      "[2, 3, 1] == [2, 3] = False\n",
      "id(x) = 2367169266240\n",
      "id(y) = 2367155449088\n",
      "id(u) = 2367169266240\n",
      "id(v) = 2367155449088\n",
      "x = [2, -3, 0.3, 25]\n",
      "u = [2, -3, 0.3, 25]\n",
      "\n",
      "First assignment\n",
      "a = hello\n",
      "Second assignment\n",
      "a = hello\n",
      "b = hello\n",
      "Third assignment\n",
      "a = hi\n",
      "b = hello\n"
     ]
    }
   ],
   "source": [
    "x = [2,3,1]\n",
    "y = [2,3]\n",
    "u = x\n",
    "v = y\n",
    "print(f\"{x} != {y} = {x != y}\")\n",
    "print(f\"{x} > {y} = {x > y}\")\n",
    "print(f\"{x} < {y} = {x < y}\")\n",
    "print(f\"{x} >= {y} = {x >= y}\")\n",
    "print(f\"{x} <= {y} = {x <= y}\")\n",
    "print(f\"{x} is {y} = {x is y}\")\n",
    "print(f\"{x} is not {y} = {x is not y}\")\n",
    "print(f\"{x} == {y} = {x == y}\")\n",
    "print(f\"id(x) = {id(x)}\")\n",
    "print(f\"id(y) = {id(y)}\")\n",
    "print(f\"id(u) = {id(u)}\")\n",
    "print(f\"id(v) = {id(v)}\")\n",
    "x.extend([25])\n",
    "x[1] = -3\n",
    "u[2] = 0.3\n",
    "print(f\"x = {x}\")\n",
    "print(f\"u = {u}\")\n",
    "print()\n",
    "print(\"First assignment\")\n",
    "a = \"hello\"\n",
    "print(f\"a = {a}\")\n",
    "print(\"Second assignment\")\n",
    "b = a\n",
    "print(f\"a = {a}\")\n",
    "print(f\"b = {b}\")\n",
    "print(\"Third assignment\")\n",
    "a = \"hi\"\n",
    "print(f\"a = {a}\")\n",
    "print(f\"b = {b}\")"
   ]
  },
  {
   "cell_type": "markdown",
   "metadata": {},
   "source": [
    "Our first branch is the basic printing of strictly positive, strictly negative, and\n",
    "zero"
   ]
  },
  {
   "cell_type": "code",
   "execution_count": 26,
   "metadata": {},
   "outputs": [
    {
     "name": "stdout",
     "output_type": "stream",
     "text": [
      "-5 is strictly negative.\n"
     ]
    }
   ],
   "source": [
    "resp = input(\"What is your number\")\n",
    "resp = int(resp)\n",
    "if resp < 0:\n",
    "    print(f\"{resp} is strictly negative.\")\n",
    "elif input > 0:\n",
    "    print(f\"{resp} is strictly positive.\")\n",
    "else:\n",
    "    print(f\"{resp} is exactly zero.\")"
   ]
  }
 ],
 "metadata": {
  "kernelspec": {
   "display_name": "base",
   "language": "python",
   "name": "python3"
  },
  "language_info": {
   "codemirror_mode": {
    "name": "ipython",
    "version": 3
   },
   "file_extension": ".py",
   "mimetype": "text/x-python",
   "name": "python",
   "nbconvert_exporter": "python",
   "pygments_lexer": "ipython3",
   "version": "3.12.4"
  }
 },
 "nbformat": 4,
 "nbformat_minor": 2
}
