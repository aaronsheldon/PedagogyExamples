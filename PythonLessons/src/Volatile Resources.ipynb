{
 "cells": [
  {
   "cell_type": "markdown",
   "metadata": {},
   "source": [
    "# Volatile Resources\n",
    "\n",
    "When writing software it is very common to access resources that we do not exclusively \n",
    "control especially when managing and analyzing data. For example reading and writing from\n",
    "the following resource:\n",
    "\n",
    "* Memory shared between processes\n",
    "* Files\n",
    "* Calls to servers\n",
    "* Most asynchronous computing\n",
    "\n",
    "can result in errors, such as resource unavailability.\n",
    "\n",
    "In these situation Python provides a number of constructs to safely handle these conditions:\n",
    "\n",
    "* The [`try...except...finally`](https://docs.python.org/3/reference/compound_stmts.html#the-try-statement) statements to handle exceptions.\n",
    "* The [`raise`](https://docs.python.org/3/reference/simple_stmts.html#raise) statement to trigger exceptions, for some other part of the program to handle.\n",
    "* The [exceptions](https://docs.python.org/3/library/exceptions.html#concrete-exceptions)\n",
    "either raised or handled.\n",
    "* The [`with`](https://docs.python.org/3/reference/compound_stmts.html#the-with-statement) [context manager](https://docs.python.org/3/reference/datamodel.html#context-managers) statement to automatically release resources when we are done\n",
    "with them.\n",
    "\n",
    "We will start with some basic [file operations](https://docs.python.org/3/tutorial/inputoutput.html#reading-and-writing-files), as a model for volatile resource access.\n",
    "\n"
   ]
  },
  {
   "cell_type": "code",
   "execution_count": 1,
   "metadata": {},
   "outputs": [
    {
     "name": "stdout",
     "output_type": "stream",
     "text": [
      "Line: This is the first line.\n",
      "Line: This is another line.\n",
      "Line: This is another line.\n",
      "Line: This is another line\n",
      "True\n",
      "This is a dangerous catch all clause.\n",
      "My Fancy Error\n",
      "This still happens.\n"
     ]
    }
   ],
   "source": [
    "# When using volatile resources that can cause errors we catch those errors with\n",
    "# a `try` statement.\n",
    "try:\n",
    "\n",
    "    # We use the `with` statement to ensure the file is always closed\n",
    "    with open(\"This Exists.txt\", \"a+\") as fh:\n",
    "        fh.write(\"\\nThis is another line.\")\n",
    "\n",
    "        # Back to beginning\n",
    "        fh.seek(0)\n",
    "\n",
    "        # Process line by line\n",
    "        for l in fh:\n",
    "            print(f\"Line: {l[:-1]}\")\n",
    "\n",
    "    # The file is now closed\n",
    "    print(fh.closed)\n",
    "\n",
    "    # Generic error\n",
    "    raise Exception(\"My Fancy Error\")\n",
    "\n",
    "    # Math error\n",
    "    z = 1/0\n",
    "    print(\"this does not happen when there is an error before.\")\n",
    "except OSError as e:\n",
    "    print(f\"No file: {e.filename}\")\n",
    "except ArithmeticError as e:\n",
    "    print(\"Denominator is zero\")\n",
    "except Exception as e:\n",
    "    print(\"This is a dangerous catch all clause.\")\n",
    "    print(e)\n",
    "\n",
    "# All this happens regardless of the `try`\n",
    "print(\"This still happens.\")"
   ]
  }
 ],
 "metadata": {
  "kernelspec": {
   "display_name": "base",
   "language": "python",
   "name": "python3"
  },
  "language_info": {
   "codemirror_mode": {
    "name": "ipython",
    "version": 3
   },
   "file_extension": ".py",
   "mimetype": "text/x-python",
   "name": "python",
   "nbconvert_exporter": "python",
   "pygments_lexer": "ipython3",
   "version": "3.12.5"
  }
 },
 "nbformat": 4,
 "nbformat_minor": 2
}
