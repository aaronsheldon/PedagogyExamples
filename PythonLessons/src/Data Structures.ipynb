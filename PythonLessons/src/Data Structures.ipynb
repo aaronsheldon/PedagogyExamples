{
 "cells": [
  {
   "cell_type": "markdown",
   "metadata": {},
   "source": [
    "# Python Data Structures\n",
    "\n",
    "This notebook will work through examples from the Python\n",
    "[Standard Types](https://docs.python.org/3/library/stdtypes.html) documentation."
   ]
  },
  {
   "cell_type": "markdown",
   "metadata": {},
   "source": [
    "## Three Ways to Match a Value\n",
    "\n",
    "We motivate dictionaries or maps as one of three ways to match a value"
   ]
  },
  {
   "cell_type": "markdown",
   "metadata": {},
   "source": [
    "### Matching with `if` Statements\n",
    "\n",
    "If statements allow for the most flexibility in defining the logic at design time. The\n",
    "tradeoff is that at runtime we ca only work with the choices we have coded.\n",
    "\n",
    "This is acceptable when you are checking a very small list of values, generally less than\n",
    "a half dozen. This is a readability convention."
   ]
  },
  {
   "cell_type": "code",
   "execution_count": null,
   "metadata": {},
   "outputs": [],
   "source": [
    "# Get some data\n",
    "response = input(\"Type Anything\")\n",
    "\n",
    "# Decide what to do with it\n",
    "if response == \"y\":\n",
    "    print(\"Hello.\")\n",
    "elif response == \"n\":\n",
    "    print(\"Goodbye.\")\n",
    "else:\n",
    "    print(\"I did not understand.\")"
   ]
  },
  {
   "cell_type": "markdown",
   "metadata": {},
   "source": [
    "### Matching with `match` Statements\n",
    "\n",
    "Match statements have less flexible logic at design. However, they idiomatically represent\n",
    "testing a single variable against a fixed set of values. Like the if statement this cannot\n",
    "change at runtime.\n",
    "\n",
    "Instead of catching all the other conditions with an else, we catch with a `case _`, where\n",
    "the underscore matches all other values.\n",
    "\n",
    "This is best used for no more than a couple dozen values."
   ]
  },
  {
   "cell_type": "code",
   "execution_count": null,
   "metadata": {},
   "outputs": [],
   "source": [
    "# Get some data\n",
    "response = input(\"Type Anything\")\n",
    "# response = [ response, 1 ]\n",
    "\n",
    "# Decide what to do with it\n",
    "match response:\n",
    "    case \"y\":\n",
    "        print(\"Hello.\")\n",
    "    case \"n\":\n",
    "        print(\"Goodbye.\")\n",
    "    case [ \"n\", 1 ]:\n",
    "        print(\"Deep comparison match.\")\n",
    "    case _:\n",
    "        print(\"I did not understand.\")"
   ]
  },
  {
   "cell_type": "markdown",
   "metadata": {},
   "source": [
    "### Matching with a Dictionary\n",
    "\n",
    "A dictionary, or map, is like a list, except it maps a unique key to a value (which may be\n",
    "a duplicate). Importantly dictionaries are a built-in data structure, not a control syntax.\n",
    "\n",
    "Dictionaries are great for matching arbitrarily large numbers of values. The act like an\n",
    "index or look-up table in a database. The value in a dictionary can be changed at run time."
   ]
  },
  {
   "cell_type": "code",
   "execution_count": null,
   "metadata": {},
   "outputs": [],
   "source": [
    "# Get some data\n",
    "response = input(\"Type Anything\")\n",
    "\n",
    "# Initialize our look-up table\n",
    "lookup = {\n",
    "    \"y\": \"Hello.\",\n",
    "    \"n\": \"Goodbye.\",\n",
    "    \"r\": \"Delete me.\",\n",
    "    -45: [ \"this is also an item.\", 78 ],\n",
    "    78.09: { \"this\": \"is\", \"a\": \"map\" }\n",
    "}\n",
    "print(lookup)\n",
    "\n",
    "# Display the output of looking up the response\n",
    "print(lookup.get(response, \"I did not understand.\"))\n",
    "\n",
    "if response not in lookup:\n",
    "    newvalue = input(\"What value do you want associated with your new key?\")\n",
    "    lookup[response] = newvalue\n",
    "\n",
    "print(lookup)\n",
    "\n",
    "print(lookup.pop(\"k\", \"Not found.\"))\n",
    "print(lookup.pop(\"r\", \"Not found.\"))\n",
    "print(lookup)\n",
    "print(lookup[78.09][\"a\"])\n",
    "print(lookup[-45][1])"
   ]
  },
  {
   "cell_type": "markdown",
   "metadata": {},
   "source": [
    "## Loops and Iterables\n",
    "\n",
    "We motivate iterables with `for` loops. We have seen using a while loop to repeat a task.\n",
    "If we have a way of computing how many times to do something we can use a `for` loop.\n",
    "\n",
    "`For` loops in Python, as with all interpreted languages such as Julia, R, JavaScript, or\n",
    "Matlab are computationally expensive. We will demonstrate some of the simpler techniques\n",
    "to replace `for` loops with idiomatic Python constructs that are optimized for iteration.\n",
    "This techniques are commonly called vectorization. It is best to use `for` loops when\n",
    "executing in strict order complex logic that references itself.\n",
    "\n",
    "Python `for` loops iterate over any object that is iterable. In the language of computer\n",
    "science the object must support the \n",
    "[iterable interface](https://docs.python.org/3/glossary.html#term-iterator). The most basic\n",
    "object that supports iteration is the\n",
    "[`range`](https://docs.python.org/3/library/functions.html#func-range) object. The main\n",
    "characteristic of the range object is that it only stored the data that defines the range.\n",
    "The boundaries and step size. The `range` object does not store the actual data that is\n",
    "iterated over. In the language of object oriented programming the `range` object\n",
    "[encapsulates](https://en.wikipedia.org/wiki/Encapsulation_(computer_programming))\n",
    "the means of\n",
    "[generating](https://docs.python.org/3/howto/functional.html#generator-expressions-and-list-comprehensions)\n",
    "the data, rather than the data."
   ]
  },
  {
   "cell_type": "code",
   "execution_count": null,
   "metadata": {},
   "outputs": [],
   "source": [
    "for item in range(8):\n",
    "    print(item)"
   ]
  },
  {
   "cell_type": "markdown",
   "metadata": {},
   "source": [
    "A dictionary is an iterator as well. By default a `for` loop will iterate over the keys of\n",
    "the dictionary."
   ]
  },
  {
   "cell_type": "code",
   "execution_count": null,
   "metadata": {},
   "outputs": [],
   "source": [
    "for key in {\"first\": 45, 87: \"hello\", \"list\": [3,4]}:\n",
    "    print(f\"key: {key}\")"
   ]
  },
  {
   "cell_type": "markdown",
   "metadata": {},
   "source": [
    "We can uses the \n",
    "[`.items()`](https://docs.python.org/3/library/stdtypes.html#dict.items) method to iterate\n",
    "over both the keys and values. Note that we are implicitly unpacking each item in a key and\n",
    "value."
   ]
  },
  {
   "cell_type": "code",
   "execution_count": null,
   "metadata": {},
   "outputs": [],
   "source": [
    "for key, value in {\"first\": 45, 87: \"hello\", \"list\": [3,4]}.items():\n",
    "    print(f\"key: {key}, value: {value}\")"
   ]
  },
  {
   "cell_type": "markdown",
   "metadata": {},
   "source": [
    "Strings are iterables as well. The `for` loop iterates over each letter"
   ]
  },
  {
   "cell_type": "code",
   "execution_count": null,
   "metadata": {},
   "outputs": [],
   "source": [
    "for c in \"Hello World!\":\n",
    "    print(c)"
   ]
  },
  {
   "cell_type": "markdown",
   "metadata": {},
   "source": [
    "The `range` object uses a default step size of 1. This means any combination of integer\n",
    "for the boundaries will create a valid range object. It simply might return no data! If the\n",
    "start of the range is larger than the end of the range then we need to use a decrement to\n",
    "produce data.\n",
    "\n",
    "Take a look at what each `for` loop produces. Also note that the `range` object produces\n",
    "data that does **NOT** contain the stop boundary."
   ]
  },
  {
   "cell_type": "code",
   "execution_count": null,
   "metadata": {},
   "outputs": [],
   "source": [
    "print(\"Default step size\")\n",
    "for x in range(4, -5):\n",
    "    print(x)\n",
    "print(\"Decrement steps\")\n",
    "for x in range(4, -5, -2):\n",
    "    print(x)"
   ]
  },
  {
   "cell_type": "markdown",
   "metadata": {},
   "source": [
    "To see that the `range` object is type that is distinct from objects that contain data we\n",
    "can display the type of the `range` object, a `list` object, and a conversion of the `range`\n",
    "to a list."
   ]
  },
  {
   "cell_type": "code",
   "execution_count": 1,
   "metadata": {},
   "outputs": [
    {
     "name": "stdout",
     "output_type": "stream",
     "text": [
      "<class 'range'>\n",
      "<class 'list'>\n",
      "<class 'list'>\n"
     ]
    }
   ],
   "source": [
    "print(type(range(4, -5, -2)))\n",
    "print(type([4,2,0,-2,-4]))\n",
    "print(type(list(range(4, -5, -2))))"
   ]
  },
  {
   "cell_type": "markdown",
   "metadata": {},
   "source": [
    "Note how we called the `list`\n",
    "[constructor](https://docs.python.org/3/library/stdtypes.html#list) function passing in a\n",
    "range object. We can accomplish the same thing by using the Python \n",
    "[unpacking](https://docs.python.org/3/reference/expressions.html#expression-lists) `*`\n",
    "operator"
   ]
  },
  {
   "cell_type": "code",
   "execution_count": 6,
   "metadata": {},
   "outputs": [
    {
     "name": "stdout",
     "output_type": "stream",
     "text": [
      "[4, 2, 0, -2, -4]\n",
      "range(4, -5, -2)\n",
      "[4, 2, 0, -2, -4]\n",
      "[('first', 45), (87, 'hello'), ('list', [3, 4])]\n"
     ]
    }
   ],
   "source": [
    "print(list(range(4, -5, -2)))\n",
    "print(range(4,-5,-2))\n",
    "print([ *range(4, -5, -2) ])\n",
    "print([ *{\"first\": 45, 87: \"hello\", \"list\": [3,4]}.items() ])\n"
   ]
  },
  {
   "cell_type": "markdown",
   "metadata": {},
   "source": [
    "## Lists and Comprehensions\n",
    "\n",
    "[List comprehensions](https://docs.python.org/3/tutorial/datastructures.html#list-comprehensions)\n",
    "allow us to build lists from combinations of other iterable objects, and thus replace\n",
    "explicit iteration with faster implicit iteration."
   ]
  },
  {
   "cell_type": "code",
   "execution_count": null,
   "metadata": {},
   "outputs": [],
   "source": [
    "# This will go from 4 to -4 in steps of 0.25\n",
    "xs = [ x/4 for x in range(16, -17, -1) ]\n",
    "\n",
    "# Here is the same thing as a for loop\n",
    "l = list()\n",
    "for x in range(16, -17, -1):\n",
    "    l.append(x/4)\n",
    "print(l)\n",
    "print(xs)"
   ]
  },
  {
   "cell_type": "markdown",
   "metadata": {},
   "source": [
    "In this more complex example we will generate a matrix as the tensor product of two lists.\n",
    "Not that in a list comprehension the rightmost `for` acts as the outer loop."
   ]
  },
  {
   "cell_type": "code",
   "execution_count": 9,
   "metadata": {},
   "outputs": [
    {
     "name": "stdout",
     "output_type": "stream",
     "text": [
      "[1, 2, 3]\n",
      "[3, 2, 1]\n",
      "[[3, 6, 9], [2, 4, 6], [1, 2, 3]]\n",
      "[[3, 6, 9], [2, 4, 6], [1, 2, 3]]\n"
     ]
    }
   ],
   "source": [
    "# Initial ranges\n",
    "rs = range(3, 0, -1)\n",
    "cs = range(1, 4, 1)\n",
    "print([ *cs ])\n",
    "print([ *rs ])\n",
    "\n",
    "# Matrix from a list comprehension\n",
    "a = [ [ r*c for c in cs ] for r in rs ]\n",
    "print(a)\n",
    "\n",
    "# The same way using nested for loops\n",
    "s = list()\n",
    "for r in rs:\n",
    "    t = list()\n",
    "    for c in cs:\n",
    "        t.append(r*c)\n",
    "    s.append(t)\n",
    "print(s)"
   ]
  },
  {
   "cell_type": "markdown",
   "metadata": {},
   "source": [
    "We can also conditionally filter out combinations by using an `if` clause. Note that\n",
    "the `if` clause can only see the loop variables assigned to the left of it. So in the\n",
    "example the `if` claus can reference `z` and `c`, but not `r`."
   ]
  },
  {
   "cell_type": "code",
   "execution_count": 10,
   "metadata": {},
   "outputs": [
    {
     "name": "stdout",
     "output_type": "stream",
     "text": [
      "[[3, 6, 9], [2, 4, 6], [1, 2, 3]]\n",
      "[5, 4, 3, 10, 8, 6, 15, 12, 9]\n"
     ]
    }
   ],
   "source": [
    "# Initial ranges\n",
    "rs = range(3, 0, -1)\n",
    "cs = range(1, 4, 1)\n",
    "zs = range(2, 8, 2)\n",
    "\n",
    "# Note the difference between a list of lists\n",
    "a = [ [ r*c for c in cs ] for r in rs ]\n",
    "print(a)\n",
    "\n",
    "# And a single list\n",
    "b = [ r*c+z for z in zs for c in cs if (c+z)%3 == 0 for r in rs ]\n",
    "print(b)"
   ]
  },
  {
   "cell_type": "markdown",
   "metadata": {},
   "source": [
    "## Indexing\n",
    "\n",
    "Many Python objects support complex indexing, including `strings`, `lists`, `dictionaries`,\n",
    "`sets`, and `tuples`. Indexing can be used to access or assign on or more values to an\n",
    "indexable object. Indexes have similar arguments to ranges\n",
    "\n",
    "* A single index `[where]` gets or assigns a single element.\n",
    "* A pair `[start:stop]` gets or assigns a range of elements.\n",
    "* A triple `[start:stop:step]` gets or assigns a range of elements, skip by the amount step.\n",
    "* The stop is never include.\n",
    "* Python indexables are 0 indexed, meaning 0 is the first .\n",
    "* Leaving out any value from the index while including the colon means use the default.\n",
    "* `[:stop]` defaults to starting from the beginning.\n",
    "* `[start:]` defaults to ending and the last element. This is really helpful when you do\n",
    "not know how long an iterable is.\n",
    "* Using negative numbers counts back from the end, for example `[-2:]` starts at the\n",
    "second to last element."
   ]
  },
  {
   "cell_type": "code",
   "execution_count": 12,
   "metadata": {},
   "outputs": [
    {
     "name": "stdout",
     "output_type": "stream",
     "text": [
      "ld\n",
      "Hello Worl\n",
      "H d\n"
     ]
    }
   ],
   "source": [
    "p = \"Hello World\"\n",
    "\n",
    "# The last two elements\n",
    "print(p[-2:])\n",
    "\n",
    "# All but the last element\n",
    "print(p[0:-1])\n",
    "\n",
    "# Every fifth element\n",
    "print(p[::5])"
   ]
  },
  {
   "cell_type": "markdown",
   "metadata": {},
   "source": [
    "Finally we can check to see if an element is in an iterable using the `in`\n",
    "[membership operator](https://docs.python.org/3/reference/expressions.html#membership-test-operations).\n",
    "We can get the number of elements using the\n",
    "[`len()`](https://docs.python.org/3/library/functions.html#len) function."
   ]
  },
  {
   "cell_type": "code",
   "execution_count": 15,
   "metadata": {},
   "outputs": [
    {
     "name": "stdout",
     "output_type": "stream",
     "text": [
      "False\n",
      "True\n",
      "True\n",
      "13\n"
     ]
    }
   ],
   "source": [
    "q = \"Goodbye Class\"\n",
    "print(\"z\" in q)\n",
    "print(\"u\" not in q)\n",
    "print(\"o\" in q)\n",
    "print(len(q))"
   ]
  }
 ],
 "metadata": {
  "kernelspec": {
   "display_name": "base",
   "language": "python",
   "name": "python3"
  },
  "language_info": {
   "codemirror_mode": {
    "name": "ipython",
    "version": 3
   },
   "file_extension": ".py",
   "mimetype": "text/x-python",
   "name": "python",
   "nbconvert_exporter": "python",
   "pygments_lexer": "ipython3",
   "version": "3.12.5"
  }
 },
 "nbformat": 4,
 "nbformat_minor": 2
}
