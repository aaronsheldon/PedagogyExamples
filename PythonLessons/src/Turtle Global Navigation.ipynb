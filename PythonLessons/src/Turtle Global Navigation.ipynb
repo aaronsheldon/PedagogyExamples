{
 "cells": [
  {
   "cell_type": "markdown",
   "metadata": {},
   "source": [
    "# Turtle Global Navigation\n",
    "\n",
    "## Background\n",
    "\n",
    "Using proprietary solid-state accelerometers and gyroscopes Turtle Global Navigation has\n",
    "developed a new inertial guidance system. At each change in course the system reports the\n",
    "previous azimuthal bearing $\\alpha_i$ of travel from due North, and a net travel\n",
    "distance along the terrestrial great circle arc $\\rho_i$.\n",
    "\n",
    "The azimuthal bearing $\\alpha_i$ is reported as the shortest difference in radians from\n",
    "due North:\n",
    "\n",
    "* $0 \\text{ rad}$ due North.\n",
    "* $\\frac{\\pi}{2} \\text{ rad}$ due East.\n",
    "* $\\pi \\text{ rad}$ due South.\n",
    "* $-\\frac{\\pi}{2} \\text{ rad}$ due West.\n",
    "\n",
    "This generates the condition $-\\pi < \\alpha_i \\le \\pi$. The travel distance\n",
    "$\\rho_i$ is reported in the change of radians, and is automatically reduced by the system\n",
    "using modular arithmetic to find the geodesic shortest path. This generates the condition\n",
    "$0 \\le \\rho_i \\le \\pi$. We can always assume these conditions will be satisfied by the input\n",
    "data.\n",
    "\n",
    "## Objective\n",
    "\n",
    "To verify the operation of the inertial guidance system we need to reconstruct the waypoints\n",
    "of the path from an initial location $\\phi_0$ and $\\theta_0$, indexed $0$, and a list of\n",
    "bearings and distances, indexed by $1 \\le i$. We are required to increment a list of\n",
    "latitude $\\phi_{i-1}$ and longitude $\\theta_{i-1}$ waypoints with a new latitude $\\phi_i$\n",
    "and longitude $\\theta_i$ calculated from the previous latitude $\\phi_{i-1}$ and longitude\n",
    "$\\theta_{i-1}$ and the new bearing $\\alpha_i$ and distance $\\rho_i$.\n",
    "\n",
    "All latitudes $\\phi_i$ must be reported in radians from the Equator:\n",
    "\n",
    "* $\\frac{\\pi}{2} \\text{ rad}$ North Pole.\n",
    "* $0 \\text{ rad}$ Equator.\n",
    "* $-\\frac{\\pi}{2} \\text{ rad}$ South Pole.\n",
    "\n",
    "This generates the constraint $-\\frac{\\pi}{2} \\le \\phi_i \\le \\frac{\\pi}{2}$. Likewise all\n",
    "longitudes $\\theta_i$ must be reported in the shortest radians from the Prime Meridian:\n",
    "\n",
    "* $0 \\text{ rad}$ Prime Meridian.\n",
    "* $\\pi \\text{ rad}$ International Date Line.\n",
    "* Positive to the East of the Prime Meridian.\n",
    "* Negative to the West of the Prime Meridian.\n",
    "\n",
    "This generates the constraint $-\\pi < \\theta_i \\le \\pi$. To calculate the next waypoint we\n",
    "will implement two\n",
    "[Spherical Trigonometry](https://en.wikipedia.org/wiki/Spherical_trigonometry) calculations."
   ]
  },
  {
   "cell_type": "code",
   "execution_count": null,
   "metadata": {},
   "outputs": [],
   "source": [
    "# Imports go here\n",
    "from math import sin, cos, acos, pi"
   ]
  },
  {
   "cell_type": "markdown",
   "metadata": {},
   "source": [
    "## Update Latitude\n",
    "\n",
    "First, we will calculate the new latitude $\\phi_i$ from the previous latitude $\\phi_{i-1}$\n",
    "and the current bearing $\\alpha_i$ and distance $\\rho_i$:\n",
    "$$\n",
    "\\phi_i = \\frac{\\pi}{2} - \\arccos \\left(\n",
    "    \\cos \\left( \\frac{\\pi}{2}-\\phi_{i-1} \\right) \\cdot\n",
    "    \\cos \\left( \\rho_i \\right) +\n",
    "    \\sin \\left( \\frac{\\pi}{2}-\\phi_{i-1} \\right) \\cdot\n",
    "    \\sin \\left( \\rho_i \\right) \\cdot\n",
    "    \\cos \\left( \\alpha_i \\right)\n",
    "\\right)\n",
    "$$"
   ]
  },
  {
   "cell_type": "code",
   "execution_count": null,
   "metadata": {},
   "outputs": [],
   "source": [
    "def updatelatitude(oldlatitude, bearing, distance):\n",
    "    \"\"\"From the previous latitude and current bearing and distance calculate the new latitude\n",
    "    using Spherical Trigonometry. Returns a number:\n",
    "    * `newlatitude` updated latitude.\"\"\"\n",
    "    return pi/2 - acos(\n",
    "        (\n",
    "            cos(pi/2 - oldlatitude) *\n",
    "            cos(distance)\n",
    "        ) + (\n",
    "            sin(pi/2 - oldlatitude) *\n",
    "            sin(distance) *\n",
    "            cos(bearing)\n",
    "        )\n",
    "    )"
   ]
  },
  {
   "cell_type": "markdown",
   "metadata": {},
   "source": [
    "### Unit Test Latitude Edge Cases\n",
    "\n",
    "We can test the latitude updater to make sure it returns the correct values for selected\n",
    "edge cases."
   ]
  },
  {
   "cell_type": "code",
   "execution_count": null,
   "metadata": {},
   "outputs": [],
   "source": [
    "# Walking East or West on the Equator should stay on the Equator\n",
    "print(updatelatitude(0, pi/2, pi/4) == 0)\n",
    "print(updatelatitude(0, -pi/2, pi/4) == 0)\n",
    "\n",
    "# Walking due North or South for one eight of a circle should get to halfway to each Pole.\n",
    "print(updatelatitude(0, 0, pi/4) == pi/4)\n",
    "print(updatelatitude(0, pi, pi/4) == -pi/4)\n"
   ]
  },
  {
   "cell_type": "markdown",
   "metadata": {},
   "source": [
    "## Update Longitude\n",
    "\n",
    "Second, using the new latitude $\\phi_i$ we will calculate the new longitude $\\theta_i$ from\n",
    "the old latitude $\\phi_{i-1}$, the old longitude $\\theta_{i-1}$, the current bearing\n",
    "$\\alpha_i$, and the current distance $\\rho_i$:\n",
    "$$\n",
    "\\theta_i = \\theta_{i-1} + \\operatorname{sgn}\\left( \\alpha_i \\right) \\cdot \\arccos \\left(\n",
    "    \\frac{\n",
    "        \\cos \\left( \\rho_i \\right) -\n",
    "        \\cos \\left( \\frac{\\pi}{2} - \\phi_i \\right) \\cdot\n",
    "        \\cos \\left( \\frac{\\pi}{2} - \\phi_{i-1} \\right)\n",
    "    }{\n",
    "        \\sin \\left( \\frac{\\pi}{2} - \\phi_i \\right) \\cdot\n",
    "        \\sin \\left( \\frac{\\pi}{2} - \\phi_{i-1} \\right)\n",
    "    }\n",
    "\\right)\n",
    "$$ "
   ]
  },
  {
   "cell_type": "code",
   "execution_count": null,
   "metadata": {},
   "outputs": [],
   "source": [
    "def updatelongitude(oldlatitude, oldlongitude, newlatitude, bearing, distance):\n",
    "    \"\"\"From the previous longitude, current and previous latitude and current bearing and\n",
    "    distance calculate the new longitude using Spherical Trigonometry. Returns a number:\n",
    "    * `newlongitude` updated longitude.\"\"\"\n",
    "\n",
    "    # Heading due North. No change in longitude.\n",
    "    if bearing == 0:\n",
    "        return oldlongitude\n",
    "    \n",
    "    # Heading due South. No change in longitude.\n",
    "    if bearing == pi:\n",
    "        return oldlongitude\n",
    "    \n",
    "    # Heading East is positive.\n",
    "    easterly = 1 if bearing > 0 else -1\n",
    "\n",
    "    # Update the longitude\n",
    "    return oldlongitude + easterly * acos(\n",
    "        (\n",
    "            cos(distance) - (\n",
    "                cos(pi/2 - newlatitude) *\n",
    "                cos(pi/2 - oldlatitude)\n",
    "            )\n",
    "        ) / (\n",
    "            sin(pi/2 - newlatitude) *\n",
    "            sin(pi/2 - oldlatitude)\n",
    "        )\n",
    "    )"
   ]
  },
  {
   "cell_type": "markdown",
   "metadata": {},
   "source": [
    "### Unit Test Longitude Edge Cases\n",
    "\n",
    "We can test the longitude updater to make sure it returns the correct values for selected\n",
    "edge cases."
   ]
  },
  {
   "cell_type": "code",
   "execution_count": null,
   "metadata": {},
   "outputs": [],
   "source": [
    "# Longitude does not change when walking due North or South\n",
    "print(updatelongitude(pi/8, pi/16, pi/4, 0, pi/8) == pi/16)\n",
    "print(updatelongitude(-pi/8, pi/16, -pi/4, pi, pi/8) == pi/16)\n",
    "\n",
    "# Longitude changes when walking East or West on the Equator\n",
    "print(updatelongitude(0, 0, 0, pi/2, pi/4) == pi/4)\n",
    "print(updatelongitude(0, 0, 0, -pi/2, pi/4) == -pi/4)"
   ]
  },
  {
   "cell_type": "markdown",
   "metadata": {},
   "source": [
    "## Naive Implementation\n",
    "\n",
    "In the naive implementation we instantiate a list with the initial position and then\n",
    "`append` to the list for when give a bearing and distance. This is a workable prototype\n",
    "but does not separate concerns."
   ]
  },
  {
   "cell_type": "code",
   "execution_count": null,
   "metadata": {},
   "outputs": [],
   "source": [
    "# List of pairs of latitudes and longitudes, initialized to a starting point\n",
    "waypoints = [ ( pi/4, pi/4 ) ]\n",
    "\n",
    "# Display\n",
    "print(waypoints)"
   ]
  },
  {
   "cell_type": "code",
   "execution_count": null,
   "metadata": {},
   "outputs": [],
   "source": [
    "bearing = 5*pi/8\n",
    "distance = pi/100\n",
    "\n",
    "# Calculate new position\n",
    "newlatitude = updatelatitude(\n",
    "    waypoints[-1][0],\n",
    "    bearing,\n",
    "    distance\n",
    ")\n",
    "newlongitude = updatelongitude(\n",
    "    waypoints[-1][0],\n",
    "    waypoints[-1][1],\n",
    "    newlatitude,\n",
    "    bearing,\n",
    "    distance\n",
    ")\n",
    "\n",
    "# Store in the list\n",
    "waypoints.append(( newlatitude, newlongitude ))\n",
    "\n",
    "# Display\n",
    "print(waypoints)"
   ]
  },
  {
   "cell_type": "code",
   "execution_count": null,
   "metadata": {},
   "outputs": [],
   "source": [
    "bearing = pi\n",
    "distance = pi/10\n",
    "\n",
    "# Calculate new position\n",
    "newlatitude = updatelatitude(\n",
    "    waypoints[-1][0],\n",
    "    bearing,\n",
    "    distance\n",
    ")\n",
    "newlongitude = updatelongitude(\n",
    "    waypoints[-1][0],\n",
    "    waypoints[-1][1],\n",
    "    newlatitude,\n",
    "    bearing,\n",
    "    distance\n",
    ")\n",
    "\n",
    "# Store in the list\n",
    "waypoints.append(( newlatitude, newlongitude ))\n",
    "\n",
    "# Display\n",
    "print(waypoints)"
   ]
  },
  {
   "cell_type": "markdown",
   "metadata": {},
   "source": [
    "Notice how we have to copy the code to replicate the translation process. This is\n",
    "inefficient, impractical, subject to errors, and cannot be automated."
   ]
  },
  {
   "cell_type": "markdown",
   "metadata": {},
   "source": [
    "## Closure Implementation\n",
    "\n",
    "A more sophisticated pattern to protect the management of the list is to write a\n",
    "[function closure](https://en.wikipedia.org/wiki/Closure_(computer_programming)). This is\n",
    "a function that returns a function. The returned function has been initialized with the \n",
    "starting position, and will return a reference to the updated list. We can also use the\n",
    "closure to protect the implementation details of the numerical updates as sub-functions.\n",
    "In general functions that return executables are called *factory* functions, because they\n",
    "create an object or method that can be used to do an action."
   ]
  },
  {
   "cell_type": "code",
   "execution_count": null,
   "metadata": {},
   "outputs": [],
   "source": [
    "def factory(latitude, longitude):\n",
    "    \"\"\"Initialize the position updating engine with the starting position. Returns a\n",
    "    function:\n",
    "    * `engine` position updater.\"\"\"\n",
    "\n",
    "    # Start our waypoints with the initial latitude and longitude.\n",
    "    # This maintains the state of the path between successive calls to the\n",
    "    # updating function.\n",
    "    waypoints = [ ( latitude, longitude) ]\n",
    "\n",
    "    def engine(bearing, distance):\n",
    "        \"\"\"Location updating function, to move on the globe from the last waypoint using the\n",
    "        bearing and distance. Returns a reference to the waypoints list:\n",
    "        * `waypoints` updated path.\"\"\"\n",
    "\n",
    "        # Update the path list\n",
    "        newlatitude = updatelatitude(\n",
    "            waypoints[-1][0],\n",
    "            bearing,\n",
    "            distance\n",
    "        )\n",
    "        newlongitude = updatelongitude(\n",
    "            waypoints[-1][0],\n",
    "            waypoints[-1][1],\n",
    "            newlatitude,\n",
    "            bearing,\n",
    "            distance\n",
    "        )\n",
    "        waypoints.append(( newlatitude, newlongitude ))\n",
    "\n",
    "        # Send out a reference to the paths.\n",
    "        return waypoints\n",
    "\n",
    "    # Send out the initialized updater.\n",
    "    return engine"
   ]
  },
  {
   "cell_type": "markdown",
   "metadata": {},
   "source": [
    "### Test the Closure\n",
    "\n",
    "Lets put a couple of turtles in Asia and move them around."
   ]
  },
  {
   "cell_type": "code",
   "execution_count": null,
   "metadata": {},
   "outputs": [],
   "source": [
    "# Create some functions here.\n",
    "turtleA = factory(pi/4, pi/4)\n",
    "turtleB = factory(pi/4, pi/4)\n",
    "print(type(turtleA))\n",
    "print(type(turtleB))\n",
    "print(turtleA == turtleB)\n",
    "print(id(turtleA))\n",
    "print(id(turtleB))"
   ]
  },
  {
   "cell_type": "markdown",
   "metadata": {},
   "source": [
    "We can make multiple calls to each turtle, which independently updates each turtle's\n",
    "waypoints. Notice how they move to different locations."
   ]
  },
  {
   "cell_type": "code",
   "execution_count": null,
   "metadata": {},
   "outputs": [],
   "source": [
    "# Lets update each one in a different order\n",
    "waypointsA = turtleA(5*pi/8, pi/100)\n",
    "waypointsB = turtleB(pi, pi/10)\n",
    "print(type(waypointsA))\n",
    "print(type(waypointsB))\n",
    "print(waypointsA == waypointsB)\n",
    "print(id(waypointsA))\n",
    "print(id(waypointsB))\n",
    "print(waypointsA)\n",
    "print(waypointsB)\n"
   ]
  },
  {
   "cell_type": "markdown",
   "metadata": {},
   "source": [
    "Note that the returned reference points to the unique list of waypoints for each turtle."
   ]
  },
  {
   "cell_type": "code",
   "execution_count": null,
   "metadata": {},
   "outputs": [],
   "source": [
    "# Lets update each one in a different order\n",
    "waypointsC = turtleA(pi, pi/10)\n",
    "waypointsD = turtleB(5*pi/8, pi/100)\n",
    "print(waypointsA == waypointsC)\n",
    "print(waypointsB == waypointsD)\n",
    "print(id(waypointsC))\n",
    "print(id(waypointsD))\n",
    "print(waypointsA)\n",
    "print(waypointsB)"
   ]
  },
  {
   "cell_type": "markdown",
   "metadata": {},
   "source": [
    "The factory is fully reusable. We can track more than just turtles, we can track ants,\n",
    "whales, lions, or tigers."
   ]
  },
  {
   "cell_type": "code",
   "execution_count": null,
   "metadata": {},
   "outputs": [],
   "source": [
    "moveswimmingant = factory(0, pi)\n",
    "antwaypoints = moveswimmingant(-7*pi/12, pi/1000)\n",
    "print(antwaypoints)"
   ]
  },
  {
   "cell_type": "markdown",
   "metadata": {},
   "source": [
    "## Class Implementation\n",
    "\n",
    "As well as the data types for strings, numbers, lists, dictionaries, and much more, we can\n",
    "programmatically extend Python to have new developer defined data types. The data types\n",
    "extended using the [class](https://docs.python.org/3/tutorial/classes.html) language\n",
    "construct. Specific instances of the data type are instantiated by calling the class name as\n",
    "a function, optionally passing in initializing values. The Python naming convention is to\n",
    "capitalize the names of all classes.\n",
    "\n",
    "### Magics\n",
    "\n",
    "There are special attributes and methods that either come predefined or must be set when\n",
    "developing a particular interface. These attributes and methods are surrounded in pairs\n",
    "of underscore characters. This is only a convention to tell developers to pay attention to\n",
    "a specific methods or attribute. Depending on the context a magic is either intended to be\n",
    "left alone, or it requires defining. Python is permissive. The interpreter does not enforce\n",
    "protection. Instead the developers have to code well behaved programs.\n",
    "\n",
    "Affectionately known as *\"dunder\"* for **d**ouble **under**core. A few examples:"
   ]
  },
  {
   "cell_type": "code",
   "execution_count": null,
   "metadata": {},
   "outputs": [],
   "source": [
    "print(__name__)\n",
    "print(__IPYTHON__)\n",
    "print(__doc__)\n",
    "print(__vsc_ipynb_file__)"
   ]
  },
  {
   "cell_type": "markdown",
   "metadata": {},
   "source": [
    "As stated before, Python is very permissive. You can both create your own *dunders* and\n",
    "override existing *dunders*. However, overriding a *dunder* will break runtime\n",
    "functionality."
   ]
  },
  {
   "cell_type": "code",
   "execution_count": null,
   "metadata": {},
   "outputs": [],
   "source": [
    "__myspecialdunder__ = 42\n",
    "print(__myspecialdunder__)\n",
    "__myspecialdunder__ = \"forty two\"\n",
    "print(__myspecialdunder__)"
   ]
  },
  {
   "cell_type": "markdown",
   "metadata": {},
   "source": [
    "The most common scenarios you will see using *dunders* is in `__init__.py` files or\n",
    "packages. The `__name__` dunder is used to detect if the package is being run as an\n",
    "independent program or being loaded into another program."
   ]
  },
  {
   "cell_type": "code",
   "execution_count": null,
   "metadata": {},
   "outputs": [],
   "source": [
    "if __name__ == \"__main__\":\n",
    "    # File is being run as a stand alone program.\n",
    "    print(\"Run as a stand alone program.\")\n",
    "else:\n",
    "    # called from somewhere else to be loaded into a pre-existing program.\n",
    "    print(\"Called to be loaded into a program.\")"
   ]
  },
  {
   "cell_type": "markdown",
   "metadata": {},
   "source": [
    "### Decorators\n",
    "\n",
    "Python decorator are syntactic sugar for calling a function that modifies an input function.\n",
    "That is a function that takes a single function as an argument and returns a function,\n",
    "typically based on the input function.\n",
    "\n",
    "A pseudo-code example propagates a fixed uncertainty in a numerical calculation:\n",
    "```python\n",
    "def factory(function):\n",
    "    \"\"\"Factory method to returns a function built from the input function.\"\"\"\n",
    "    def engine(input):\n",
    "        \"\"\"Return a range based on the input function\"\"\"\n",
    "        return function(input - 0.001), function(input + 0.001)\n",
    "    return engine\n",
    "\n",
    "# Usage example of the factor decorator\n",
    "@factory\n",
    "def numericalmethod(input):\n",
    "    \"\"\"Calculate an output from the input\"\"\"\n",
    "    output = exp(input) / input\n",
    "    return output\n",
    "```\n",
    "Decorators are an important tool in developing Python classes. The `@staticmethod`\n",
    "decorator is used to create a method that can be called from the class rather than an\n",
    "instance of the class.\n",
    "\n",
    "We now know enough language constructs to implement Turtle Navigation inside a class, along\n",
    "with a couple of methods."
   ]
  },
  {
   "cell_type": "code",
   "execution_count": null,
   "metadata": {},
   "outputs": [],
   "source": [
    "from math import sin, cos, acos, pi\n",
    "class Navigator:\n",
    "    \"\"\"Each instance holds a unique list of waypoints, initialized to different starting\n",
    "    points. The instance encapsulates all the methods used to consistently maintain the\n",
    "    waypoints.\"\"\"\n",
    "\n",
    "    @staticmethod\n",
    "    def updatelatitude(oldlatitude, bearing, distance):\n",
    "        \"\"\"Static method to update from the previous latitude and current bearing and\n",
    "        distance calculate the new latitude using Spherical Trigonometry. Returns a number:\n",
    "        * `newlatitude` updated latitude.\"\"\"\n",
    "        print(\"Static latitude called\")\n",
    "        return pi/2 - acos(\n",
    "            (\n",
    "                cos(pi/2 - oldlatitude) *\n",
    "                cos(distance)\n",
    "            ) + (\n",
    "                sin(pi/2 - oldlatitude) *\n",
    "                sin(distance) *\n",
    "                cos(bearing)\n",
    "            )\n",
    "        )\n",
    "\n",
    "    @staticmethod\n",
    "    def updatelongitude(oldlatitude, oldlongitude, newlatitude, bearing, distance):\n",
    "        \"\"\"Static method to update from the previous longitude, current and previous \n",
    "        latitude and current bearing and distance calculate the new longitude using\n",
    "        Spherical Trigonometry. Returns a number:\n",
    "        * `newlongitude` updated longitude.\"\"\"\n",
    "        print(\"Static longitude called\")\n",
    "\n",
    "        # Heading due North. No change in longitude.\n",
    "        if bearing == 0:\n",
    "            return oldlongitude\n",
    "        \n",
    "        # Heading due South. No change in longitude.\n",
    "        if bearing == pi:\n",
    "            return oldlongitude\n",
    "        \n",
    "        # Heading East is positive.\n",
    "        easterly = 1 if bearing > 0 else -1\n",
    "\n",
    "        # Update the longitude\n",
    "        return oldlongitude + easterly * acos(\n",
    "            (\n",
    "                cos(distance) - (\n",
    "                    cos(pi/2 - newlatitude) *\n",
    "                    cos(pi/2 - oldlatitude)\n",
    "                )\n",
    "            ) / (\n",
    "                sin(pi/2 - newlatitude) *\n",
    "                sin(pi/2 - oldlatitude)\n",
    "            )\n",
    "        )\n",
    "\n",
    "    def __init__(self, latitude = 0, longitude = 0):\n",
    "        \"\"\"Initializer method that initializes the waypoints storage to the start location.\n",
    "        It is expected that you override this `__dunder__` with your constructor code.\n",
    "        Returns nothing.\"\"\"\n",
    "\n",
    "        # Creates a new waypoints property containing the list of waypoints.\n",
    "        self.waypoints = [ ( latitude, longitude) ]\n",
    "\n",
    "    def move(self, bearing, distance):\n",
    "        \"\"\"Instance method to update the waypoints list with the new position based on the\n",
    "        direction and distance traveled. Returns noting.\"\"\"\n",
    "        \n",
    "        # Update the path list\n",
    "        newlatitude = Navigator.updatelatitude(\n",
    "            self.waypoints[-1][0],\n",
    "            bearing,\n",
    "            distance\n",
    "        )\n",
    "        newlongitude = Navigator.updatelongitude(\n",
    "            self.waypoints[-1][0],\n",
    "            self.waypoints[-1][1],\n",
    "            newlatitude,\n",
    "            bearing,\n",
    "            distance\n",
    "        )\n",
    "        self.waypoints.append(( newlatitude, newlongitude ))\n",
    "\n",
    "    def recenter(self, latitude = 0, longitude = 0):\n",
    "        \"\"\"\"Instance method to Empty the waypoints and start and the new position. Returns\n",
    "        nothing.\"\"\"\n",
    "        self.waypoints = [ ( latitude, longitude) ]"
   ]
  },
  {
   "cell_type": "markdown",
   "metadata": {},
   "source": [
    "### Test the Class\n",
    "\n",
    "Call the `Navigator()` constructor to create new instances."
   ]
  },
  {
   "cell_type": "code",
   "execution_count": null,
   "metadata": {},
   "outputs": [],
   "source": [
    "# Calling the class constructor method. Implicitly runs the __init__ method\n",
    "antA = Navigator(longitude=pi/4)\n",
    "print(type(antA))\n",
    "print(antA)\n",
    "print(antA.waypoints)\n",
    "antA.move(0, pi/4)\n",
    "print(antA.waypoints)\n",
    "Santa = Navigator(latitude=pi/2)\n",
    "print(Santa)\n",
    "antB = Navigator()\n",
    "print(antB.waypoints)\n",
    "antC = Navigator()\n",
    "print(antC.waypoints)\n",
    "Santa.recenter(0, -pi/2)\n",
    "print(Santa.waypoints)"
   ]
  },
  {
   "cell_type": "markdown",
   "metadata": {},
   "source": [
    "### Advanced Concepts\n",
    "\n",
    "Using the `__new__(constructor)` function in a class definition one can implement more\n",
    "advance techniques like\n",
    "[static](https://en.wikipedia.org/wiki/Class_%28computer_programming%29#Uninstantiable)\n",
    "classes that cannot be instantiated,\n",
    "[singleton](https://en.wikipedia.org/wiki/Singleton_pattern) classes, and\n",
    "[interned](https://en.wikipedia.org/wiki/Interning_(computer_science)) instances."
   ]
  },
  {
   "cell_type": "code",
   "execution_count": null,
   "metadata": {},
   "outputs": [],
   "source": [
    "class NotConstructable:\n",
    "    \"\"\"\"This class cannot be instantiated.\"\"\"\n",
    "    def __new__(constructor):\n",
    "        \"\"\"\"Override instantiation.\"\"\"\n",
    "        pass"
   ]
  },
  {
   "cell_type": "code",
   "execution_count": null,
   "metadata": {},
   "outputs": [],
   "source": [
    "x = NotConstructable()\n",
    "print(type(x))\n",
    "print(type(None))"
   ]
  },
  {
   "cell_type": "markdown",
   "metadata": {},
   "source": [
    "Static, non-constructable, or non-instantiable classes are discouraged in Python,\n",
    "particularly as containers or namespaces for methods and attributes. Instead it is strongly\n",
    "recommended to import Python modules, simply `*.py` files, as the name of the file acts\n",
    "as the namespace for all the definitions and declarations in the file.\n",
    "\n",
    "Close to the singleton pattern, the instance interning pattern is an important technique to\n",
    "ensure that a property or attribute of a class is unique across all the instances. This\n",
    "is particularly useful for ensuring only one instance runs per processor, file, or\n",
    "connection to a peripheral.\n",
    "\n",
    "In the example below we intern by the `name` attribute to ensure there is only one instance\n",
    "of the object per name. We do this by using a simple dictionary. Note the overriding of the\n",
    "`__str__(self)` magic method to customize the print out of the object details. We do this\n",
    "so that we can easily verify the non-duplication of names in objects."
   ]
  },
  {
   "cell_type": "code",
   "execution_count": null,
   "metadata": {},
   "outputs": [],
   "source": [
    "class Interned:\n",
    "    \"\"\"\"Constrain the class to only have unique instances for each name.\"\"\"\n",
    "\n",
    "    instances = dict()\n",
    "    \"\"\"Unique instances of each named object.\"\"\"\n",
    "\n",
    "    def __new__(constructor, name):\n",
    "        \"\"\"Check to see if an instance with the same name has been created.\"\"\"\n",
    "        if name not in constructor.instances:\n",
    "            constructor.instances[name] = object.__new__(constructor)\n",
    "        return constructor.instances[name]\n",
    "\n",
    "    def __init__(self, name):\n",
    "        \"\"\"Recording the objects own name.\"\"\"\n",
    "        self.name = name\n",
    "\n",
    "    def __str__(self):\n",
    "        \"\"\"Identify the name and object.\"\"\"\n",
    "        return f\"{self.name}: {id(self)}\"\n"
   ]
  },
  {
   "cell_type": "code",
   "execution_count": null,
   "metadata": {},
   "outputs": [],
   "source": [
    "x = Interned(\"Todd\")\n",
    "print(x)\n",
    "y = Interned(\"Todd\")\n",
    "print(y)\n",
    "print(x == y)\n",
    "z = Interned(\"Lily\")\n",
    "print(z)\n",
    "print(Interned.instances)"
   ]
  },
  {
   "cell_type": "markdown",
   "metadata": {},
   "source": [
    "## Redistribution\n",
    "\n",
    "Turtle Navigation requires that the inertial navigation class be redistributable. We use\n",
    "Python packages to make our code redistributable. A package is simply a directory containing\n",
    "a special `__init__.py` file, and other regular `*.py` files, called the modules of the\n",
    "package. The `__init__.py` file defines what should occur when the package is imported into\n",
    "a project. "
   ]
  },
  {
   "cell_type": "code",
   "execution_count": null,
   "metadata": {},
   "outputs": [],
   "source": [
    "import examplemodule\n",
    "import examplepackage"
   ]
  },
  {
   "cell_type": "markdown",
   "metadata": {},
   "source": [
    "Now that we have organized and packaged our class lets test importing the package in a few\n",
    "different ways."
   ]
  },
  {
   "cell_type": "code",
   "execution_count": null,
   "metadata": {},
   "outputs": [
    {
     "name": "stdout",
     "output_type": "stream",
     "text": [
      "32\n",
      "<function updatelatitude at 0x000001D81CD85940>\n",
      "<function updatelatitude at 0x000001D81CC47F60>\n"
     ]
    }
   ],
   "source": [
    "import TurtleUniversal\n",
    "from TurtleUniversal import CartesianNavigator, SphericalNavigator\n",
    "from math import pi\n",
    "print(TurtleUniversal.NAUTICALMILESPERDEGREE)\n",
    "print(TurtleUniversal.Cartesian.updatelatitude)\n",
    "print(TurtleUniversal.Spherical.updatelatitude)"
   ]
  },
  {
   "cell_type": "code",
   "execution_count": 2,
   "metadata": {},
   "outputs": [
    {
     "name": "stdout",
     "output_type": "stream",
     "text": [
      "<class 'TurtleUniversal.SphericalNavigator'>\n",
      "<TurtleUniversal.SphericalNavigator object at 0x000001D81C9305C0>\n",
      "[(0, 0)]\n",
      "[(0, 0), (0.7853981633974483, 0)]\n",
      "<TurtleUniversal.SphericalNavigator object at 0x000001D81CC705F0>\n",
      "[(0, 0)]\n",
      "[(0, 0)]\n",
      "[(0, -1.5707963267948966)]\n",
      "<TurtleUniversal.CartesianNavigator object at 0x000001D81CD9CDD0>\n",
      "[(0, 0), (0.7653668647301796, 1.8477590650225735)]\n"
     ]
    }
   ],
   "source": [
    "antA = SphericalNavigator(longitude=pi/4)\n",
    "print(type(antA))\n",
    "print(antA)\n",
    "print(antA.waypoints)\n",
    "antA.move(0, pi/4)\n",
    "print(antA.waypoints)\n",
    "Santa = SphericalNavigator(latitude=pi/2)\n",
    "print(Santa)\n",
    "antB = SphericalNavigator()\n",
    "print(antB.waypoints)\n",
    "antC = SphericalNavigator()\n",
    "print(antC.waypoints)\n",
    "Santa.recenter(0, -pi/2)\n",
    "print(Santa.waypoints)\n",
    "tronA = CartesianNavigator(1, 1)\n",
    "print(tronA)\n",
    "tronA.move(pi/8, 2)\n",
    "print(tronA.waypoints)"
   ]
  }
 ],
 "metadata": {
  "kernelspec": {
   "display_name": "base",
   "language": "python",
   "name": "python3"
  },
  "language_info": {
   "codemirror_mode": {
    "name": "ipython",
    "version": 3
   },
   "file_extension": ".py",
   "mimetype": "text/x-python",
   "name": "python",
   "nbconvert_exporter": "python",
   "pygments_lexer": "ipython3",
   "version": "3.12.5"
  }
 },
 "nbformat": 4,
 "nbformat_minor": 2
}
