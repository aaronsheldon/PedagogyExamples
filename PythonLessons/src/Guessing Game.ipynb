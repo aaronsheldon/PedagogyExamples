{
 "cells": [
  {
   "cell_type": "markdown",
   "metadata": {},
   "source": [
    "# Guessing Game\n",
    "\n",
    "In this notebook we will develop a small number guessing to demonstrate Pythons program\n",
    "control expressions:\n",
    "\n",
    "* Leaving the program with `exit()`\n",
    "* Conditional execution with `if: ... elif: ... else:`\n",
    "* Looping with `while:`, `for ... in:`, `break`, `continue`, and `pass`\n",
    "* Testing cases with `match: ... case:`\n",
    "\n",
    "Our program will choose a secret number and then prompt for a guess. It will return whether\n",
    "the guess is larger or smaller than the secret.\n",
    "\n",
    "We will start by demonstrating the exit statement. First lets import the regular expresion\n",
    "library to use for checking for valid numbers. To text regular expression you can use\n",
    "the [RegEx101](https://regex101.com/) web application."
   ]
  },
  {
   "cell_type": "code",
   "execution_count": 2,
   "metadata": {},
   "outputs": [],
   "source": [
    "import re, random"
   ]
  },
  {
   "cell_type": "markdown",
   "metadata": {},
   "source": [
    "Now lets ask the user some questions and give them the option to leave.\n",
    "\n",
    "**!Jupyter Python Cells are Wrapped in Functions Behind the Scene!**\n",
    "\n",
    "Calling `exit()` or `quit()` will crash the kernel of the notebook. The kernel is the\n",
    "running Python interpreter than compiles each cell into machine instructions.\n",
    "\n",
    "We cannot use the `exit()` or `quit()` in a Jupyter cell."
   ]
  },
  {
   "cell_type": "code",
   "execution_count": 21,
   "metadata": {},
   "outputs": [
    {
     "name": "stdout",
     "output_type": "stream",
     "text": [
      "Congratulations Aaron you guessed correctly!\n"
     ]
    }
   ],
   "source": [
    "# Python convention is that all the variables we want developers to treat as constant\n",
    "# are uppercase. Note that the program can still technically overwrite the value. This\n",
    "# is just a polite request\n",
    "SECRET = 17\n",
    "MATCH = re.compile(\"^-?[1-9]+[0-9]*$\")\n",
    "\n",
    "name = input(\"What is your name, type 'q' to quit?\\n\")\n",
    "\n",
    "# We need some code to end the program if they type 'q'\n",
    "if name == \"q\":\n",
    "    print(\"Goodbye.\")\n",
    "\n",
    "# This will only run if they do NOT type 'q'\n",
    "else:\n",
    "    choice = input(\n",
    "        f\"Hello {name} do you want to play a number guessing game, \" +\n",
    "        \"type 'y' for yes and 'n' for no?\\n\"\n",
    "    )\n",
    "\n",
    "    # Keep prompting until a yes or no answer\n",
    "    while choice not in [\"n\", \"y\"]:\n",
    "        choice = input(\n",
    "            f\"I am sorry {name} I did not understand your choice, \" +\n",
    "            \"type 'y' for yes and 'n' for no.\\n\"\n",
    "        )\n",
    "\n",
    "    # They do not want to play\n",
    "    if choice == \"n\":\n",
    "        print(\"Goodbye {name}.\")\n",
    "\n",
    "    # The game\n",
    "    else:\n",
    "        guess =  input(\"Please guess a number.\\n\")\n",
    "\n",
    "        # Prompt whether bigger or smaller\n",
    "        while True:\n",
    "\n",
    "            if not MATCH.match(guess):\n",
    "                guess = input(\"I did not understand the input. Please guess again.\\n\")\n",
    "                continue\n",
    "\n",
    "            # We can safely convert guess to an integer because we made it passed the\n",
    "            # continue in the conditional that checks for an integer\n",
    "            guess = int(guess)\n",
    "            if guess < SECRET:\n",
    "                guess = input(\"Too small. Try again.\\n\")\n",
    "                continue\n",
    "            if guess > SECRET:\n",
    "                guess = input(\"Too big. Try again.\\n\")\n",
    "                continue\n",
    "\n",
    "            # The loop breaks only if the guess is correct\n",
    "            break\n",
    "\n",
    "        print(f\"Congratulations {name} you guessed correctly!\")"
   ]
  },
  {
   "cell_type": "markdown",
   "metadata": {},
   "source": [
    "## Defining Functions\n",
    "\n",
    "Recall that last week we discoverd we could not safely call `exit()` or `quit()` in a\n",
    "notebook cell because it would close the entire kernel and interpreter (the program the\n",
    "executes the code in the cell). This resulted in creating nested code blocks.\n",
    "\n",
    "Wrapping code in a function are calling `return` is\n",
    "[idiomatic](https://en.wikipedia.org/wiki/Programming_idiom) Python.  The main reason that\n",
    "wrapping code in functions is idiomatic is because the function protects the\n",
    "[scope](https://en.wikipedia.org/wiki/Scope_(computer_science)) of variables defined.\n",
    "\n",
    "Calling `exit()`, `quit()`, raising errors or other methods of leaving a Python cell are \n",
    "[anti-patterns](https://en.wikipedia.org/wiki/Anti-pattern#Software_engineering_anti-patterns).\n",
    "\n",
    "We can re-factor the code, that is change the way we solve the problem of the guessing game\n",
    "by placing the entire game in a function, using the `return` statement to exit early, and\n",
    "then calling that function. Roughly our code would be:\n",
    "\n",
    "```python\n",
    "def wrapperfunction(someinput):\n",
    "\n",
    "    # Do something\n",
    "    myvariable = changevalue()\n",
    "\n",
    "    # Early exit\n",
    "    if exitcondition:\n",
    "        return\n",
    "\n",
    "    # Processing if not early exit\n",
    "    anothervariable = morechanges()\n",
    "\n",
    "# Call the function\n",
    "wrapperfunction(\"an input\")\n",
    "```\n",
    "\n",
    "Before we dive into refactoring our code, lets take a look at the `def` and `return`\n",
    "statements in a small example."
   ]
  },
  {
   "cell_type": "code",
   "execution_count": 22,
   "metadata": {},
   "outputs": [],
   "source": [
    "def example(stay):\n",
    "    \"\"\"\n",
    "    Calculate if the guest has stayed to long.\n",
    "    \"\"\"\n",
    "    TOOLONG = 4\n",
    "    if stay < TOOLONG:\n",
    "        return \"You left too soon.\"\n",
    "    print(\"You are still here.\")\n",
    "    return \"You over stayed your welcome.\""
   ]
  },
  {
   "cell_type": "markdown",
   "metadata": {},
   "source": [
    "We can even call the function from other cells, as long as we have run the cell that defines\n",
    "the function first."
   ]
  },
  {
   "cell_type": "code",
   "execution_count": 23,
   "metadata": {},
   "outputs": [
    {
     "name": "stdout",
     "output_type": "stream",
     "text": [
      "You are still here.\n",
      "You over stayed your welcome.\n"
     ]
    },
    {
     "data": {
      "text/plain": [
       "'You left too soon.'"
      ]
     },
     "execution_count": 23,
     "metadata": {},
     "output_type": "execute_result"
    }
   ],
   "source": [
    "print(example(7))\n",
    "example(2)"
   ]
  },
  {
   "cell_type": "markdown",
   "metadata": {},
   "source": [
    "Let's get on with refactoring our code to take advantage of the `return` statement."
   ]
  },
  {
   "cell_type": "code",
   "execution_count": 3,
   "metadata": {},
   "outputs": [
    {
     "name": "stdout",
     "output_type": "stream",
     "text": [
      "Goodbye Aaron.\n"
     ]
    }
   ],
   "source": [
    "def guessinggame():\n",
    "    \"\"\"\n",
    "    Prompt the terminal user to guess a number. Provide hints as to whether the guess is\n",
    "    too small, or too large.\n",
    "    \"\"\"\n",
    "    SECRET = 17\n",
    "    MATCH = re.compile(\"^-?[1-9]+[0-9]*$\")\n",
    "\n",
    "    # We need some code to end the program if they type 'q'\n",
    "    name = input(\"What is your name, type 'q' to quit?\")\n",
    "    if name == \"q\":\n",
    "        print(\"Goodbye.\")\n",
    "        return\n",
    "    \n",
    "    # Ask if they want to play\n",
    "    choice = input(\n",
    "        f\"Hello {name} do you want to play a number guessing game, \" +\n",
    "        \"type 'y' for yes and 'n' for no?\"\n",
    "    )\n",
    "\n",
    "    # Keep prompting until a yes or no answer\n",
    "    while choice not in [\"n\", \"y\"]:\n",
    "        choice = input(\n",
    "            f\"I am sorry {name} I did not understand your choice, \" +\n",
    "            \"type 'y' for yes and 'n' for no.\"\n",
    "        )\n",
    "\n",
    "    # They do not want to play\n",
    "    if choice == \"n\":\n",
    "        print(f\"Goodbye {name}.\")\n",
    "        return\n",
    "    \n",
    "    # Initial guess\n",
    "    guess =  input(\"Please guess a number, type 'q' to quit.\")\n",
    "\n",
    "    # Main game loop, Prompt whether bigger or smaller\n",
    "    while True:\n",
    "        if guess == \"q\":\n",
    "            print(f\"Goodbye {name}.\")\n",
    "            return\n",
    "        \n",
    "        # Check for a string that contains a number\n",
    "        if not MATCH.match(guess):\n",
    "            guess = input(\n",
    "                \"I did not understand the input. Please guess again. \" +\n",
    "                \"Type 'q' to quit.\"\n",
    "            )\n",
    "            continue\n",
    "\n",
    "        # We can safely convert guess to an integer because we made it passed the\n",
    "        # continue in the conditional that checks for an integer\n",
    "        guess = int(guess)\n",
    "        if guess < SECRET:\n",
    "            guess = input(\"Too small. Try again. Type 'q' to quit.\")\n",
    "            continue\n",
    "        if guess > SECRET:\n",
    "            guess = input(\"Too big. Try again. Type 'q' to quit.\")\n",
    "            continue\n",
    "\n",
    "        # The loop breaks only if the guess is correct\n",
    "        break\n",
    "\n",
    "    # End of game\n",
    "    print(f\"Congratulations {name} you guessed correctly!\")\n",
    "\n",
    "# Test the game\n",
    "guessinggame()"
   ]
  },
  {
   "cell_type": "markdown",
   "metadata": {},
   "source": [
    "## Three Ways to Match Values\n",
    "\n",
    "### The `if` Statement\n",
    "This is good for a very small number of fixed values\n",
    "\n",
    "### The `Switch` Statement\n",
    "This is good for a small number of fixed values\n",
    "\n",
    "### Dictionaries\n",
    "This is good for a large number of values, or a number of values that can be changed at\n",
    "runtime."
   ]
  },
  {
   "cell_type": "markdown",
   "metadata": {},
   "source": [
    "## Types\n",
    "\n",
    "We can check the actually value held by a variable, but how do we know what *type* of data\n",
    "a variable holds. We use the `type()` and `isinstance()` functions."
   ]
  }
 ],
 "metadata": {
  "kernelspec": {
   "display_name": "base",
   "language": "python",
   "name": "python3"
  },
  "language_info": {
   "codemirror_mode": {
    "name": "ipython",
    "version": 3
   },
   "file_extension": ".py",
   "mimetype": "text/x-python",
   "name": "python",
   "nbconvert_exporter": "python",
   "pygments_lexer": "ipython3",
   "version": "3.12.4"
  }
 },
 "nbformat": 4,
 "nbformat_minor": 2
}
