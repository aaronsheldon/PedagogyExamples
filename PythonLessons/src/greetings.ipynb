{
 "cells": [
  {
   "cell_type": "markdown",
   "metadata": {},
   "source": [
    "# Greetings\n",
    "\n",
    "This is our first Jupyter Notebook. This notebook will run against the Python Kernel. The\n",
    "convention in software development is to manual add carriage return-line feeds.\n",
    "\n",
    "## A Question\n",
    "\n",
    "What will happen if we add a Python cell and run last classes code in it? One of the main\n",
    "purposes of having a notebook is to move the explanatory code comments into Markdown cells."
   ]
  },
  {
   "cell_type": "code",
   "execution_count": 4,
   "metadata": {},
   "outputs": [
    {
     "name": "stdout",
     "output_type": "stream",
     "text": [
      "First value assigned.\n",
      "thisisanumber: 5.12\n",
      "Change of value assigned.\n",
      "thisisanumber: six point five\n"
     ]
    }
   ],
   "source": [
    "paragraph = \"\"\"This is a long set of sentences.\n",
    "We can enter multiple lines of string by using\\n the triples of double quotes.\n",
    "This is helpful for hardcoding things like HTML.\"\"\"\n",
    "thisisanumber = 5.12\n",
    "print(\"First value assigned.\")\n",
    "print(f\"thisisanumber: {thisisanumber}\")\n",
    "thisisanumber = \"six point five\"\n",
    "print(\"Change of value assigned.\")\n",
    "print(f\"thisisanumber: {thisisanumber}\")\n",
    "greeting = \"Hi. What is you name? \""
   ]
  },
  {
   "cell_type": "markdown",
   "metadata": {},
   "source": [
    "## Independent Cells\n",
    "\n",
    "Code cells can be run independently, and they can see each others variables and functions."
   ]
  },
  {
   "cell_type": "code",
   "execution_count": 5,
   "metadata": {},
   "outputs": [
    {
     "name": "stdout",
     "output_type": "stream",
     "text": [
      "Hi. What is you name? \n"
     ]
    }
   ],
   "source": [
    "print(greeting)"
   ]
  },
  {
   "cell_type": "markdown",
   "metadata": {},
   "source": [
    "## Literals and Primitives in Python\n",
    "\n",
    "There are four [main primitives](https://docs.python.org/3/library/stdtypes.html) in Python:\n",
    "\n",
    "1. Booleans `True` and `False`\n",
    "2. Numbers `34` or `56.78` or `0xA56D`\n",
    "3. Strings that are surrounded by single `'` or double `\"` quotes\n",
    "4. Raw binary *(not covered)*\n",
    "\n",
    "The literals are how we enter a primitive using typed text.\n",
    "\n",
    "A literal is any text that the interpreter will turn into data when running the program."
   ]
  },
  {
   "cell_type": "code",
   "execution_count": 12,
   "metadata": {},
   "outputs": [
    {
     "name": "stdout",
     "output_type": "stream",
     "text": [
      "H\n",
      "e\n"
     ]
    }
   ],
   "source": [
    "# This is a Boolean\n",
    "a = True\n",
    "\n",
    "# This is a integer\n",
    "b = 56\n",
    "\n",
    "# This is a float\n",
    "c = -34.875\n",
    "\n",
    "# This is a string\n",
    "d = \"Hello\"\n",
    "\n",
    "# Technically a string is an list of characters\n",
    "# We can access using list notation\n",
    "print(d[0])\n",
    "print(d[1])"
   ]
  },
  {
   "cell_type": "markdown",
   "metadata": {},
   "source": [
    "## Weak Typing\n",
    "\n",
    "Python is a *\"weakly typed\"* language. This means that any variable can be bound or\n",
    "assigned any type of data, regardless of previous assignments."
   ]
  },
  {
   "cell_type": "code",
   "execution_count": 16,
   "metadata": {},
   "outputs": [],
   "source": [
    "# Assign boolean \"a\" to \"f\"\n",
    "f = a\n",
    "\n",
    "# Mow overwrite with the number in b\n",
    "f = b\n",
    "\n",
    "# Assign \"f\" any sort of data, including dictionaries and lists\n",
    "f = {\n",
    "    \"name\": \"aaron\",\n",
    "    \"age\": 51\n",
    "}\n",
    "\n",
    "# now assign a list\n",
    "f = [\n",
    "    51,\n",
    "    \"aaron\",\n",
    "    False\n",
    "]"
   ]
  },
  {
   "cell_type": "markdown",
   "metadata": {},
   "source": [
    "## Basic Operators\n",
    "\n",
    "Python supports all the standard operations on its primitive data types that are common in\n",
    "the sciences:\n",
    "\n",
    "* String operators concatenation, splitting, selecting.\n",
    "* Arithmetic operators addition, division, modulus\n",
    "* Logic operator and, or, negation, XOR\n",
    "* Bitwise operators, bit shift, bit flip.\n",
    "\n",
    "The key is familiarizing with the particular\n",
    "[vernacular](https://docs.python.org/3/reference/expressions.html) of Python operators. For\n",
    "a more concise list see [W3 Schools](https://www.w3schools.com/python/python_operators.asp)."
   ]
  },
  {
   "cell_type": "code",
   "execution_count": 30,
   "metadata": {},
   "outputs": [
    {
     "name": "stdout",
     "output_type": "stream",
     "text": [
      "Hello54.78\n",
      "56.0\n",
      "56\n"
     ]
    },
    {
     "data": {
      "text/plain": [
       "True"
      ]
     },
     "execution_count": 30,
     "metadata": {},
     "output_type": "execute_result"
    }
   ],
   "source": [
    "a = \"Hello\"\n",
    "b = 5\n",
    "c = \"54.78\"\n",
    "print(a + str(c))\n",
    "float(c) + b\n",
    "print(float(56))\n",
    "print(56)\n",
    "1.0 == 1"
   ]
  },
  {
   "cell_type": "markdown",
   "metadata": {},
   "source": [
    "## Type Coercion\n",
    "\n",
    "The process of converting the type of the data in a variable. For example:\n",
    "\n",
    "* Changing a valid integer literal string to an integer using the `int()` function\n",
    "* Up-casting an integer to a float using `float()`\n",
    "\n",
    "Python documentation on type conversion as part of the\n",
    "[built-in functions](https://docs.python.org/3/library/functions.html), and specifically\n",
    "[W3 Schools](https://www.w3schools.com/python/gloss_python_type_conversion.asp)."
   ]
  }
 ],
 "metadata": {
  "kernelspec": {
   "display_name": "base",
   "language": "python",
   "name": "python3"
  },
  "language_info": {
   "codemirror_mode": {
    "name": "ipython",
    "version": 3
   },
   "file_extension": ".py",
   "mimetype": "text/x-python",
   "name": "python",
   "nbconvert_exporter": "python",
   "pygments_lexer": "ipython3",
   "version": "3.12.4"
  }
 },
 "nbformat": 4,
 "nbformat_minor": 2
}
