{
 "cells": [
  {
   "cell_type": "markdown",
   "metadata": {},
   "source": [
    "# Missing Data Frequency Estimation\n",
    "\n",
    "Missing data is a common occurrence in data analysis. In this notebook we will demonstrate\n",
    "how to estimate contingency table frequencies when some of the records are incomplete."
   ]
  },
  {
   "cell_type": "code",
   "execution_count": 1,
   "metadata": {},
   "outputs": [],
   "source": [
    "# The usual suspects.\n",
    "%matplotlib widget\n",
    "import pandas as pd\n",
    "import matplotlib.pyplot as mp\n",
    "import numpy as np\n",
    "import ipywidgets as wg\n",
    "import scipy.stats as st"
   ]
  },
  {
   "cell_type": "markdown",
   "metadata": {},
   "source": [
    "## Data Load\n",
    "For this exercise we are using the Acute Bacterial Meningitis dataset available from the\n",
    "Vanderbilt Department of Biostatistics [data page](https://hbiostat.org/data/).\n",
    "\n",
    "Local copy of the data:\n",
    "* File `Data\\abm.xlsx`\n",
    "* Sheet `abm`\n",
    "\n",
    "After loading we decode the numerical levels of the categories into succinctly named fields,\n",
    "and add indicator fields for missing values.\n",
    "* `pathogen` - `missing`, `bacterial`, `viral`\n",
    "* `gender` - `missing`, `female`, `male`"
   ]
  },
  {
   "cell_type": "code",
   "execution_count": 2,
   "metadata": {},
   "outputs": [],
   "source": [
    "# Load our data\n",
    "abmsource = pd.read_excel(\n",
    "    \"Data\\\\abm.xlsx\",\n",
    "    sheet_name = \"abm\"\n",
    ")\n",
    "\n",
    "# Recode values and add missing indicator\n",
    "pathogen = [\"viral\", \"bacterial\", \"missing\"]\n",
    "abmsource[\"pathogen\"] = abmsource[\"abm\"].fillna(2).astype(int).apply(lambda p: pathogen[p])\n",
    "abmsource[\"pathogenmissing\"] = abmsource[\"abm\"].isna()\n",
    "abmsource[\"gender\"] = abmsource[\"sex\"].fillna(\"missing\")\n",
    "abmsource[\"gendermissing\"] = abmsource[\"sex\"].isna()\n",
    "abmtarget = abmsource[[\"pathogen\", \"pathogenmissing\", \"gender\", \"gendermissing\"]]"
   ]
  },
  {
   "cell_type": "markdown",
   "metadata": {},
   "source": [
    "## Actual Contingency Table\n",
    "Having added a value to indicate a missing value we can cross tabulate with the missing\n",
    "value indicator as the first value in the row and column."
   ]
  },
  {
   "cell_type": "code",
   "execution_count": 3,
   "metadata": {},
   "outputs": [
    {
     "name": "stdout",
     "output_type": "stream",
     "text": [
      "Rows\n",
      "['missing', 'female', 'male']\n",
      "[[ 81 221 279]]\n",
      "\n",
      "Columns\n",
      "['missing', 'bacterial', 'viral']\n",
      "[[ 80 217 284]]\n",
      "\n",
      "Actual\n",
      "[[  0   0  81]\n",
      " [ 32 104  85]\n",
      " [ 48 113 118]]\n"
     ]
    }
   ],
   "source": [
    "# Actual record counts with missing values\n",
    "missingactual = st.contingency.crosstab(\n",
    "    \n",
    "    # Gender is the rows\n",
    "    abmtarget[\"gender\"],\n",
    "    \n",
    "    # Diagnosis in the columns\n",
    "    abmtarget[\"pathogen\"],\n",
    "\n",
    "    # Reorder the levels\n",
    "    levels = [\n",
    "        [\"missing\", \"female\", \"male\"],\n",
    "        [\"missing\", \"bacterial\", \"viral\"]\n",
    "    ]\n",
    ")\n",
    "\n",
    "# Row and column margins\n",
    "missingmargins = st.contingency.margins(missingactual.count)\n",
    "\n",
    "# Output\n",
    "print(\"Rows\")\n",
    "print(missingactual.elements[0])\n",
    "print(missingmargins[0].reshape(1, -1))\n",
    "print(\"\\nColumns\")\n",
    "print(missingactual.elements[1])\n",
    "print(missingmargins[1].reshape(1, -1))\n",
    "print(\"\\nActual\")\n",
    "print(missingactual.count)"
   ]
  },
  {
   "cell_type": "markdown",
   "metadata": {},
   "source": [
    "## Omnibus Test\n",
    "The omnibus test compares complete independence between all values and missing values to\n",
    "complete dependence. A small tail probability is evidence that we can rule out independence\n",
    "between values and missing values."
   ]
  },
  {
   "cell_type": "code",
   "execution_count": 4,
   "metadata": {},
   "outputs": [
    {
     "name": "stdout",
     "output_type": "stream",
     "text": [
      "Test\n",
      "Statistic: 100.88537166563069\n",
      "P-Value: 6.372994233826082e-21\n",
      "Degrees of Freedom: 4\n"
     ]
    }
   ],
   "source": [
    "# The Pearson's Text. Counts are large enough that we do not need the correction.\n",
    "missingtest = st.chi2_contingency(\n",
    "    missingactual.count,\n",
    "    correction = False\n",
    ")\n",
    "\n",
    "# Output\n",
    "print(\"Test\")\n",
    "print(f\"Statistic: {missingtest.statistic}\")\n",
    "print(f\"P-Value: {missingtest.pvalue}\")\n",
    "print(f\"Degrees of Freedom: {missingtest.dof}\")"
   ]
  },
  {
   "cell_type": "code",
   "execution_count": 5,
   "metadata": {},
   "outputs": [
    {
     "name": "stdout",
     "output_type": "stream",
     "text": [
      "Complete Records: 420\n",
      "\n",
      "Joint estimate conditioned on complete records\n",
      "[[24.76190476 20.23809524]\n",
      " [26.9047619  28.0952381 ]]\n"
     ]
    }
   ],
   "source": [
    "# Number of complete values\n",
    "completecount = np.sum(missingactual.count[1:3, 1:3])\n",
    "\n",
    "# Display\n",
    "print(f\"Complete Records: {completecount}\")\n",
    "print(\"\\nJoint estimate conditioned on complete records\")\n",
    "print(100 * missingactual.count[1:3, 1:3] / completecount)"
   ]
  },
  {
   "cell_type": "markdown",
   "metadata": {},
   "source": [
    "## Expectation Maximization\n",
    "Update steps\n",
    "$$\n",
    "\\begin{array}{rl}\n",
    "\\operatorname{\\hat{\\mathbb{P}}^{(i+1)}_{11}} & = \\displaystyle\\frac{1}{n_\\text{tot}} \\cdot \\left(\n",
    "    n_{11} + \n",
    "    n_{10} \\cdot \\frac{\\operatorname{\\hat{\\mathbb{P}}^{(i)}_{11}}}\n",
    "    {\\operatorname{\\hat{\\mathbb{P}}^{(i)}_{11}} + \\operatorname{\\hat{\\mathbb{P}}^{(i)}_{12}}} +\n",
    "    n_{01} \\cdot \\frac{\\operatorname{\\hat{\\mathbb{P}}^{(i)}_{11}}}\n",
    "    {\\operatorname{\\hat{\\mathbb{P}}^{(i)}_{11}} + \\operatorname{\\hat{\\mathbb{P}}^{(i)}_{21}}} +\n",
    "    n_{00} \\cdot \\operatorname{\\hat{\\mathbb{P}}^{(i)}_{11}}\n",
    "\\right)\\\\\\\\\n",
    "\\operatorname{\\hat{\\mathbb{P}}^{(i+1)}_{12}} & = \\displaystyle\\frac{1}{n_\\text{tot}} \\cdot \\left(\n",
    "    n_{12} +\n",
    "    n_{10} \\cdot \\frac{\\operatorname{\\hat{\\mathbb{P}}^{(i)}_{12}}}\n",
    "    {\\operatorname{\\hat{\\mathbb{P}}^{(i)}_{11}} + \\operatorname{\\hat{\\mathbb{P}}^{(i)}_{12}}} +\n",
    "    n_{02} \\cdot \\frac{\\operatorname{\\hat{\\mathbb{P}}^{(i)}_{12}}}\n",
    "    {1 - \\operatorname{\\hat{\\mathbb{P}}^{(i)}_{11}} - \\operatorname{\\hat{\\mathbb{P}}^{(i)}_{21}}} +\n",
    "    n_{00} \\cdot \\operatorname{\\hat{\\mathbb{P}}^{(i)}_{12}}\n",
    "\\right)\\\\\\\\\n",
    "\\operatorname{\\hat{\\mathbb{P}}^{(i+1)}_{21}} & = \\displaystyle\\frac{1}{n_\\text{tot}} \\cdot \\left(\n",
    "    n_{21} +\n",
    "    n_{20} \\cdot \\frac{\\operatorname{\\hat{\\mathbb{P}}^{(i)}_{21}}}\n",
    "    {1 - \\operatorname{\\hat{\\mathbb{P}}^{(i)}_{11}} - \\operatorname{\\hat{\\mathbb{P}}^{(i)}_{12}}} +\n",
    "    n_{01} \\cdot \\frac{\\operatorname{\\hat{\\mathbb{P}}^{(i)}_{21}}}\n",
    "    {\\operatorname{\\hat{\\mathbb{P}}^{(i)}_{11}} + \\operatorname{\\hat{\\mathbb{P}}^{(i)}_{21}}} +\n",
    "    n_{00} \\cdot \\operatorname{\\hat{\\mathbb{P}}^{(i)}_{21}}\n",
    "\\right)\n",
    "\\end{array}\n",
    "$$"
   ]
  },
  {
   "cell_type": "code",
   "execution_count": 6,
   "metadata": {},
   "outputs": [],
   "source": [
    "# Count the total record once\n",
    "totalrecords = np.sum(missingactual.count)\n",
    "\n",
    "# Update our estimated joint probabilities with the actual data and the\n",
    "# previous estimate\n",
    "def emupdate(oldestimate):\n",
    "\n",
    "    # Initialize return\n",
    "    newestimate = np.zeros(4)\n",
    "\n",
    "    # Estimate Female, Bacterial frequency\n",
    "    newestimate[0] = (\n",
    "        missingactual.count[1, 1] +\n",
    "        missingactual.count[1, 0] * oldestimate[0] / (oldestimate[0] + oldestimate[1]) +\n",
    "        missingactual.count[0, 1] * oldestimate[0] / (oldestimate[0] + oldestimate[2]) +\n",
    "        missingactual.count[0, 0] * oldestimate[0]\n",
    "    ) / totalrecords\n",
    "\n",
    "    # Estimate Female, Viral frequency\n",
    "    newestimate[1] = (\n",
    "        missingactual.count[1, 2] +\n",
    "        missingactual.count[1, 0] * oldestimate[1] / (oldestimate[0] + oldestimate[1]) +\n",
    "        missingactual.count[0, 2] * oldestimate[1] / (1 - oldestimate[0] - oldestimate[2]) +\n",
    "        missingactual.count[0, 0] * oldestimate[1]\n",
    "    ) / totalrecords\n",
    "\n",
    "    # Estimate Male, Bacterial frequency\n",
    "    newestimate[2] = (\n",
    "        missingactual.count[2, 1] +\n",
    "        missingactual.count[2, 0] * oldestimate[2] / (1 - oldestimate[0] - oldestimate[1]) +\n",
    "        missingactual.count[0, 1] * oldestimate[2] / (oldestimate[0] + oldestimate[2]) +\n",
    "        missingactual.count[0, 0] * oldestimate[2]\n",
    "    ) / totalrecords\n",
    "\n",
    "    # Last value is 1 minus all the values\n",
    "    newestimate[3] = 1 - np.sum(newestimate[0:3])\n",
    "\n",
    "    # Send\n",
    "    return newestimate\n"
   ]
  },
  {
   "cell_type": "code",
   "execution_count": 12,
   "metadata": {},
   "outputs": [
    {
     "name": "stdout",
     "output_type": "stream",
     "text": [
      "Step 0\n",
      "[0.24761905 0.20238095 0.26904762 0.28095238]\n",
      "Step 1\n",
      "[0.20930889 0.22944542 0.23490623 0.32633946]\n",
      "Step 2\n",
      "[0.20527656 0.23265689 0.22907079 0.33299575]\n",
      "Step 3\n",
      "[0.20481868 0.23290226 0.22816256 0.3341165 ]\n",
      "Step 4\n",
      "[0.2047736  0.23286952 0.22801639 0.33434049]\n",
      "Step 5\n",
      "[0.20477251 0.23284325 0.22799028 0.33439396]\n",
      "Step 6\n",
      "[0.20477398 0.23283258 0.22798481 0.33440863]\n",
      "Step 7\n",
      "[0.20477471 0.23282882 0.22798346 0.33441301]\n",
      "Step 8\n",
      "[0.20477498 0.23282757 0.22798308 0.33441437]\n",
      "Step 9\n",
      "[0.20477507 0.23282716 0.22798297 0.33441481]\n",
      "Step 10\n",
      "[0.2047751  0.23282702 0.22798293 0.33441494]\n",
      "Step 11\n",
      "[0.20477511 0.23282698 0.22798292 0.33441499]\n",
      "Step 12\n",
      "[0.20477512 0.23282696 0.22798292 0.334415  ]\n",
      "Step 13\n",
      "[0.20477512 0.23282696 0.22798291 0.33441501]\n",
      "Step 14\n",
      "[0.20477512 0.23282696 0.22798291 0.33441501]\n"
     ]
    }
   ],
   "source": [
    "# Initial estimate of the joint probabilities from the complete data\n",
    "initialjoint = missingactual.count[1:3, 1:3] / completecount\n",
    "initialestimate = np.zeros(4)\n",
    "initialestimate[0] = initialjoint[0, 0]\n",
    "initialestimate[1] = initialjoint[0, 1]\n",
    "initialestimate[2] = initialjoint[1, 0]\n",
    "initialestimate[3] = initialjoint[1, 1]\n",
    "\n",
    "# Display the start\n",
    "print(\"Step 0\")\n",
    "print(initialestimate)\n",
    "\n",
    "# Update the estimate\n",
    "for i in range(1, 15):\n",
    "    initialestimate = emupdate(initialestimate)\n",
    "    print(f\"Step {i}\")\n",
    "    print(initialestimate)"
   ]
  }
 ],
 "metadata": {
  "kernelspec": {
   "display_name": "base",
   "language": "python",
   "name": "python3"
  },
  "language_info": {
   "codemirror_mode": {
    "name": "ipython",
    "version": 3
   },
   "file_extension": ".py",
   "mimetype": "text/x-python",
   "name": "python",
   "nbconvert_exporter": "python",
   "pygments_lexer": "ipython3",
   "version": "3.11.8"
  }
 },
 "nbformat": 4,
 "nbformat_minor": 2
}
